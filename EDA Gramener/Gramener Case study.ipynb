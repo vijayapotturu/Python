{
 "cells": [
  {
   "cell_type": "code",
   "execution_count": 185,
   "metadata": {},
   "outputs": [],
   "source": [
    "import numpy as np\n",
    "import pandas as pd\n",
    "import matplotlib.pyplot as plt\n",
    "import seaborn as sns"
   ]
  },
  {
   "cell_type": "code",
   "execution_count": 296,
   "metadata": {},
   "outputs": [
    {
     "name": "stderr",
     "output_type": "stream",
     "text": [
      "C:\\Users\\raj\\Anaconda3\\lib\\site-packages\\IPython\\core\\interactiveshell.py:2728: DtypeWarning: Columns (47) have mixed types. Specify dtype option on import or set low_memory=False.\n",
      "  interactivity=interactivity, compiler=compiler, result=result)\n"
     ]
    }
   ],
   "source": [
    "loan_data = pd.read_csv(\"loan.csv\")\n",
    "loan = loan_data"
   ]
  },
  {
   "cell_type": "code",
   "execution_count": 297,
   "metadata": {},
   "outputs": [
    {
     "data": {
      "text/html": [
       "<div>\n",
       "<style scoped>\n",
       "    .dataframe tbody tr th:only-of-type {\n",
       "        vertical-align: middle;\n",
       "    }\n",
       "\n",
       "    .dataframe tbody tr th {\n",
       "        vertical-align: top;\n",
       "    }\n",
       "\n",
       "    .dataframe thead th {\n",
       "        text-align: right;\n",
       "    }\n",
       "</style>\n",
       "<table border=\"1\" class=\"dataframe\">\n",
       "  <thead>\n",
       "    <tr style=\"text-align: right;\">\n",
       "      <th></th>\n",
       "      <th>id</th>\n",
       "      <th>member_id</th>\n",
       "      <th>loan_amnt</th>\n",
       "      <th>funded_amnt</th>\n",
       "      <th>funded_amnt_inv</th>\n",
       "      <th>term</th>\n",
       "      <th>int_rate</th>\n",
       "      <th>installment</th>\n",
       "      <th>grade</th>\n",
       "      <th>sub_grade</th>\n",
       "      <th>...</th>\n",
       "      <th>num_tl_90g_dpd_24m</th>\n",
       "      <th>num_tl_op_past_12m</th>\n",
       "      <th>pct_tl_nvr_dlq</th>\n",
       "      <th>percent_bc_gt_75</th>\n",
       "      <th>pub_rec_bankruptcies</th>\n",
       "      <th>tax_liens</th>\n",
       "      <th>tot_hi_cred_lim</th>\n",
       "      <th>total_bal_ex_mort</th>\n",
       "      <th>total_bc_limit</th>\n",
       "      <th>total_il_high_credit_limit</th>\n",
       "    </tr>\n",
       "  </thead>\n",
       "  <tbody>\n",
       "    <tr>\n",
       "      <th>0</th>\n",
       "      <td>1077501</td>\n",
       "      <td>1296599</td>\n",
       "      <td>5000</td>\n",
       "      <td>5000</td>\n",
       "      <td>4975.0</td>\n",
       "      <td>36 months</td>\n",
       "      <td>10.65%</td>\n",
       "      <td>162.87</td>\n",
       "      <td>B</td>\n",
       "      <td>B2</td>\n",
       "      <td>...</td>\n",
       "      <td>NaN</td>\n",
       "      <td>NaN</td>\n",
       "      <td>NaN</td>\n",
       "      <td>NaN</td>\n",
       "      <td>0.0</td>\n",
       "      <td>0.0</td>\n",
       "      <td>NaN</td>\n",
       "      <td>NaN</td>\n",
       "      <td>NaN</td>\n",
       "      <td>NaN</td>\n",
       "    </tr>\n",
       "    <tr>\n",
       "      <th>1</th>\n",
       "      <td>1077430</td>\n",
       "      <td>1314167</td>\n",
       "      <td>2500</td>\n",
       "      <td>2500</td>\n",
       "      <td>2500.0</td>\n",
       "      <td>60 months</td>\n",
       "      <td>15.27%</td>\n",
       "      <td>59.83</td>\n",
       "      <td>C</td>\n",
       "      <td>C4</td>\n",
       "      <td>...</td>\n",
       "      <td>NaN</td>\n",
       "      <td>NaN</td>\n",
       "      <td>NaN</td>\n",
       "      <td>NaN</td>\n",
       "      <td>0.0</td>\n",
       "      <td>0.0</td>\n",
       "      <td>NaN</td>\n",
       "      <td>NaN</td>\n",
       "      <td>NaN</td>\n",
       "      <td>NaN</td>\n",
       "    </tr>\n",
       "    <tr>\n",
       "      <th>2</th>\n",
       "      <td>1077175</td>\n",
       "      <td>1313524</td>\n",
       "      <td>2400</td>\n",
       "      <td>2400</td>\n",
       "      <td>2400.0</td>\n",
       "      <td>36 months</td>\n",
       "      <td>15.96%</td>\n",
       "      <td>84.33</td>\n",
       "      <td>C</td>\n",
       "      <td>C5</td>\n",
       "      <td>...</td>\n",
       "      <td>NaN</td>\n",
       "      <td>NaN</td>\n",
       "      <td>NaN</td>\n",
       "      <td>NaN</td>\n",
       "      <td>0.0</td>\n",
       "      <td>0.0</td>\n",
       "      <td>NaN</td>\n",
       "      <td>NaN</td>\n",
       "      <td>NaN</td>\n",
       "      <td>NaN</td>\n",
       "    </tr>\n",
       "    <tr>\n",
       "      <th>3</th>\n",
       "      <td>1076863</td>\n",
       "      <td>1277178</td>\n",
       "      <td>10000</td>\n",
       "      <td>10000</td>\n",
       "      <td>10000.0</td>\n",
       "      <td>36 months</td>\n",
       "      <td>13.49%</td>\n",
       "      <td>339.31</td>\n",
       "      <td>C</td>\n",
       "      <td>C1</td>\n",
       "      <td>...</td>\n",
       "      <td>NaN</td>\n",
       "      <td>NaN</td>\n",
       "      <td>NaN</td>\n",
       "      <td>NaN</td>\n",
       "      <td>0.0</td>\n",
       "      <td>0.0</td>\n",
       "      <td>NaN</td>\n",
       "      <td>NaN</td>\n",
       "      <td>NaN</td>\n",
       "      <td>NaN</td>\n",
       "    </tr>\n",
       "    <tr>\n",
       "      <th>4</th>\n",
       "      <td>1075358</td>\n",
       "      <td>1311748</td>\n",
       "      <td>3000</td>\n",
       "      <td>3000</td>\n",
       "      <td>3000.0</td>\n",
       "      <td>60 months</td>\n",
       "      <td>12.69%</td>\n",
       "      <td>67.79</td>\n",
       "      <td>B</td>\n",
       "      <td>B5</td>\n",
       "      <td>...</td>\n",
       "      <td>NaN</td>\n",
       "      <td>NaN</td>\n",
       "      <td>NaN</td>\n",
       "      <td>NaN</td>\n",
       "      <td>0.0</td>\n",
       "      <td>0.0</td>\n",
       "      <td>NaN</td>\n",
       "      <td>NaN</td>\n",
       "      <td>NaN</td>\n",
       "      <td>NaN</td>\n",
       "    </tr>\n",
       "  </tbody>\n",
       "</table>\n",
       "<p>5 rows × 111 columns</p>\n",
       "</div>"
      ],
      "text/plain": [
       "        id  member_id  loan_amnt  funded_amnt  funded_amnt_inv        term  \\\n",
       "0  1077501    1296599       5000         5000           4975.0   36 months   \n",
       "1  1077430    1314167       2500         2500           2500.0   60 months   \n",
       "2  1077175    1313524       2400         2400           2400.0   36 months   \n",
       "3  1076863    1277178      10000        10000          10000.0   36 months   \n",
       "4  1075358    1311748       3000         3000           3000.0   60 months   \n",
       "\n",
       "  int_rate  installment grade sub_grade            ...              \\\n",
       "0   10.65%       162.87     B        B2            ...               \n",
       "1   15.27%        59.83     C        C4            ...               \n",
       "2   15.96%        84.33     C        C5            ...               \n",
       "3   13.49%       339.31     C        C1            ...               \n",
       "4   12.69%        67.79     B        B5            ...               \n",
       "\n",
       "  num_tl_90g_dpd_24m num_tl_op_past_12m pct_tl_nvr_dlq  percent_bc_gt_75  \\\n",
       "0                NaN                NaN            NaN               NaN   \n",
       "1                NaN                NaN            NaN               NaN   \n",
       "2                NaN                NaN            NaN               NaN   \n",
       "3                NaN                NaN            NaN               NaN   \n",
       "4                NaN                NaN            NaN               NaN   \n",
       "\n",
       "  pub_rec_bankruptcies tax_liens tot_hi_cred_lim total_bal_ex_mort  \\\n",
       "0                  0.0       0.0             NaN               NaN   \n",
       "1                  0.0       0.0             NaN               NaN   \n",
       "2                  0.0       0.0             NaN               NaN   \n",
       "3                  0.0       0.0             NaN               NaN   \n",
       "4                  0.0       0.0             NaN               NaN   \n",
       "\n",
       "  total_bc_limit total_il_high_credit_limit  \n",
       "0            NaN                        NaN  \n",
       "1            NaN                        NaN  \n",
       "2            NaN                        NaN  \n",
       "3            NaN                        NaN  \n",
       "4            NaN                        NaN  \n",
       "\n",
       "[5 rows x 111 columns]"
      ]
     },
     "execution_count": 297,
     "metadata": {},
     "output_type": "execute_result"
    }
   ],
   "source": [
    "loan.head()"
   ]
  },
  {
   "cell_type": "code",
   "execution_count": 298,
   "metadata": {},
   "outputs": [
    {
     "data": {
      "text/plain": [
       "(39717, 111)"
      ]
     },
     "execution_count": 298,
     "metadata": {},
     "output_type": "execute_result"
    }
   ],
   "source": [
    "# approx 39716 rows,111 columns\n",
    "loan.shape"
   ]
  },
  {
   "cell_type": "code",
   "execution_count": 299,
   "metadata": {},
   "outputs": [
    {
     "data": {
      "text/html": [
       "<div>\n",
       "<style scoped>\n",
       "    .dataframe tbody tr th:only-of-type {\n",
       "        vertical-align: middle;\n",
       "    }\n",
       "\n",
       "    .dataframe tbody tr th {\n",
       "        vertical-align: top;\n",
       "    }\n",
       "\n",
       "    .dataframe thead th {\n",
       "        text-align: right;\n",
       "    }\n",
       "</style>\n",
       "<table border=\"1\" class=\"dataframe\">\n",
       "  <thead>\n",
       "    <tr style=\"text-align: right;\">\n",
       "      <th></th>\n",
       "      <th>id</th>\n",
       "      <th>member_id</th>\n",
       "      <th>loan_amnt</th>\n",
       "      <th>funded_amnt</th>\n",
       "      <th>funded_amnt_inv</th>\n",
       "      <th>installment</th>\n",
       "      <th>annual_inc</th>\n",
       "      <th>dti</th>\n",
       "      <th>delinq_2yrs</th>\n",
       "      <th>inq_last_6mths</th>\n",
       "      <th>...</th>\n",
       "      <th>num_tl_90g_dpd_24m</th>\n",
       "      <th>num_tl_op_past_12m</th>\n",
       "      <th>pct_tl_nvr_dlq</th>\n",
       "      <th>percent_bc_gt_75</th>\n",
       "      <th>pub_rec_bankruptcies</th>\n",
       "      <th>tax_liens</th>\n",
       "      <th>tot_hi_cred_lim</th>\n",
       "      <th>total_bal_ex_mort</th>\n",
       "      <th>total_bc_limit</th>\n",
       "      <th>total_il_high_credit_limit</th>\n",
       "    </tr>\n",
       "  </thead>\n",
       "  <tbody>\n",
       "    <tr>\n",
       "      <th>count</th>\n",
       "      <td>3.971700e+04</td>\n",
       "      <td>3.971700e+04</td>\n",
       "      <td>39717.000000</td>\n",
       "      <td>39717.000000</td>\n",
       "      <td>39717.000000</td>\n",
       "      <td>39717.000000</td>\n",
       "      <td>3.971700e+04</td>\n",
       "      <td>39717.000000</td>\n",
       "      <td>39717.000000</td>\n",
       "      <td>39717.000000</td>\n",
       "      <td>...</td>\n",
       "      <td>0.0</td>\n",
       "      <td>0.0</td>\n",
       "      <td>0.0</td>\n",
       "      <td>0.0</td>\n",
       "      <td>39020.000000</td>\n",
       "      <td>39678.0</td>\n",
       "      <td>0.0</td>\n",
       "      <td>0.0</td>\n",
       "      <td>0.0</td>\n",
       "      <td>0.0</td>\n",
       "    </tr>\n",
       "    <tr>\n",
       "      <th>mean</th>\n",
       "      <td>6.831319e+05</td>\n",
       "      <td>8.504636e+05</td>\n",
       "      <td>11219.443815</td>\n",
       "      <td>10947.713196</td>\n",
       "      <td>10397.448868</td>\n",
       "      <td>324.561922</td>\n",
       "      <td>6.896893e+04</td>\n",
       "      <td>13.315130</td>\n",
       "      <td>0.146512</td>\n",
       "      <td>0.869200</td>\n",
       "      <td>...</td>\n",
       "      <td>NaN</td>\n",
       "      <td>NaN</td>\n",
       "      <td>NaN</td>\n",
       "      <td>NaN</td>\n",
       "      <td>0.043260</td>\n",
       "      <td>0.0</td>\n",
       "      <td>NaN</td>\n",
       "      <td>NaN</td>\n",
       "      <td>NaN</td>\n",
       "      <td>NaN</td>\n",
       "    </tr>\n",
       "    <tr>\n",
       "      <th>std</th>\n",
       "      <td>2.106941e+05</td>\n",
       "      <td>2.656783e+05</td>\n",
       "      <td>7456.670694</td>\n",
       "      <td>7187.238670</td>\n",
       "      <td>7128.450439</td>\n",
       "      <td>208.874874</td>\n",
       "      <td>6.379377e+04</td>\n",
       "      <td>6.678594</td>\n",
       "      <td>0.491812</td>\n",
       "      <td>1.070219</td>\n",
       "      <td>...</td>\n",
       "      <td>NaN</td>\n",
       "      <td>NaN</td>\n",
       "      <td>NaN</td>\n",
       "      <td>NaN</td>\n",
       "      <td>0.204324</td>\n",
       "      <td>0.0</td>\n",
       "      <td>NaN</td>\n",
       "      <td>NaN</td>\n",
       "      <td>NaN</td>\n",
       "      <td>NaN</td>\n",
       "    </tr>\n",
       "    <tr>\n",
       "      <th>min</th>\n",
       "      <td>5.473400e+04</td>\n",
       "      <td>7.069900e+04</td>\n",
       "      <td>500.000000</td>\n",
       "      <td>500.000000</td>\n",
       "      <td>0.000000</td>\n",
       "      <td>15.690000</td>\n",
       "      <td>4.000000e+03</td>\n",
       "      <td>0.000000</td>\n",
       "      <td>0.000000</td>\n",
       "      <td>0.000000</td>\n",
       "      <td>...</td>\n",
       "      <td>NaN</td>\n",
       "      <td>NaN</td>\n",
       "      <td>NaN</td>\n",
       "      <td>NaN</td>\n",
       "      <td>0.000000</td>\n",
       "      <td>0.0</td>\n",
       "      <td>NaN</td>\n",
       "      <td>NaN</td>\n",
       "      <td>NaN</td>\n",
       "      <td>NaN</td>\n",
       "    </tr>\n",
       "    <tr>\n",
       "      <th>25%</th>\n",
       "      <td>5.162210e+05</td>\n",
       "      <td>6.667800e+05</td>\n",
       "      <td>5500.000000</td>\n",
       "      <td>5400.000000</td>\n",
       "      <td>5000.000000</td>\n",
       "      <td>167.020000</td>\n",
       "      <td>4.040400e+04</td>\n",
       "      <td>8.170000</td>\n",
       "      <td>0.000000</td>\n",
       "      <td>0.000000</td>\n",
       "      <td>...</td>\n",
       "      <td>NaN</td>\n",
       "      <td>NaN</td>\n",
       "      <td>NaN</td>\n",
       "      <td>NaN</td>\n",
       "      <td>0.000000</td>\n",
       "      <td>0.0</td>\n",
       "      <td>NaN</td>\n",
       "      <td>NaN</td>\n",
       "      <td>NaN</td>\n",
       "      <td>NaN</td>\n",
       "    </tr>\n",
       "    <tr>\n",
       "      <th>50%</th>\n",
       "      <td>6.656650e+05</td>\n",
       "      <td>8.508120e+05</td>\n",
       "      <td>10000.000000</td>\n",
       "      <td>9600.000000</td>\n",
       "      <td>8975.000000</td>\n",
       "      <td>280.220000</td>\n",
       "      <td>5.900000e+04</td>\n",
       "      <td>13.400000</td>\n",
       "      <td>0.000000</td>\n",
       "      <td>1.000000</td>\n",
       "      <td>...</td>\n",
       "      <td>NaN</td>\n",
       "      <td>NaN</td>\n",
       "      <td>NaN</td>\n",
       "      <td>NaN</td>\n",
       "      <td>0.000000</td>\n",
       "      <td>0.0</td>\n",
       "      <td>NaN</td>\n",
       "      <td>NaN</td>\n",
       "      <td>NaN</td>\n",
       "      <td>NaN</td>\n",
       "    </tr>\n",
       "    <tr>\n",
       "      <th>75%</th>\n",
       "      <td>8.377550e+05</td>\n",
       "      <td>1.047339e+06</td>\n",
       "      <td>15000.000000</td>\n",
       "      <td>15000.000000</td>\n",
       "      <td>14400.000000</td>\n",
       "      <td>430.780000</td>\n",
       "      <td>8.230000e+04</td>\n",
       "      <td>18.600000</td>\n",
       "      <td>0.000000</td>\n",
       "      <td>1.000000</td>\n",
       "      <td>...</td>\n",
       "      <td>NaN</td>\n",
       "      <td>NaN</td>\n",
       "      <td>NaN</td>\n",
       "      <td>NaN</td>\n",
       "      <td>0.000000</td>\n",
       "      <td>0.0</td>\n",
       "      <td>NaN</td>\n",
       "      <td>NaN</td>\n",
       "      <td>NaN</td>\n",
       "      <td>NaN</td>\n",
       "    </tr>\n",
       "    <tr>\n",
       "      <th>max</th>\n",
       "      <td>1.077501e+06</td>\n",
       "      <td>1.314167e+06</td>\n",
       "      <td>35000.000000</td>\n",
       "      <td>35000.000000</td>\n",
       "      <td>35000.000000</td>\n",
       "      <td>1305.190000</td>\n",
       "      <td>6.000000e+06</td>\n",
       "      <td>29.990000</td>\n",
       "      <td>11.000000</td>\n",
       "      <td>8.000000</td>\n",
       "      <td>...</td>\n",
       "      <td>NaN</td>\n",
       "      <td>NaN</td>\n",
       "      <td>NaN</td>\n",
       "      <td>NaN</td>\n",
       "      <td>2.000000</td>\n",
       "      <td>0.0</td>\n",
       "      <td>NaN</td>\n",
       "      <td>NaN</td>\n",
       "      <td>NaN</td>\n",
       "      <td>NaN</td>\n",
       "    </tr>\n",
       "  </tbody>\n",
       "</table>\n",
       "<p>8 rows × 87 columns</p>\n",
       "</div>"
      ],
      "text/plain": [
       "                 id     member_id     loan_amnt   funded_amnt  \\\n",
       "count  3.971700e+04  3.971700e+04  39717.000000  39717.000000   \n",
       "mean   6.831319e+05  8.504636e+05  11219.443815  10947.713196   \n",
       "std    2.106941e+05  2.656783e+05   7456.670694   7187.238670   \n",
       "min    5.473400e+04  7.069900e+04    500.000000    500.000000   \n",
       "25%    5.162210e+05  6.667800e+05   5500.000000   5400.000000   \n",
       "50%    6.656650e+05  8.508120e+05  10000.000000   9600.000000   \n",
       "75%    8.377550e+05  1.047339e+06  15000.000000  15000.000000   \n",
       "max    1.077501e+06  1.314167e+06  35000.000000  35000.000000   \n",
       "\n",
       "       funded_amnt_inv   installment    annual_inc           dti  \\\n",
       "count     39717.000000  39717.000000  3.971700e+04  39717.000000   \n",
       "mean      10397.448868    324.561922  6.896893e+04     13.315130   \n",
       "std        7128.450439    208.874874  6.379377e+04      6.678594   \n",
       "min           0.000000     15.690000  4.000000e+03      0.000000   \n",
       "25%        5000.000000    167.020000  4.040400e+04      8.170000   \n",
       "50%        8975.000000    280.220000  5.900000e+04     13.400000   \n",
       "75%       14400.000000    430.780000  8.230000e+04     18.600000   \n",
       "max       35000.000000   1305.190000  6.000000e+06     29.990000   \n",
       "\n",
       "        delinq_2yrs  inq_last_6mths             ...              \\\n",
       "count  39717.000000    39717.000000             ...               \n",
       "mean       0.146512        0.869200             ...               \n",
       "std        0.491812        1.070219             ...               \n",
       "min        0.000000        0.000000             ...               \n",
       "25%        0.000000        0.000000             ...               \n",
       "50%        0.000000        1.000000             ...               \n",
       "75%        0.000000        1.000000             ...               \n",
       "max       11.000000        8.000000             ...               \n",
       "\n",
       "       num_tl_90g_dpd_24m  num_tl_op_past_12m  pct_tl_nvr_dlq  \\\n",
       "count                 0.0                 0.0             0.0   \n",
       "mean                  NaN                 NaN             NaN   \n",
       "std                   NaN                 NaN             NaN   \n",
       "min                   NaN                 NaN             NaN   \n",
       "25%                   NaN                 NaN             NaN   \n",
       "50%                   NaN                 NaN             NaN   \n",
       "75%                   NaN                 NaN             NaN   \n",
       "max                   NaN                 NaN             NaN   \n",
       "\n",
       "       percent_bc_gt_75  pub_rec_bankruptcies  tax_liens  tot_hi_cred_lim  \\\n",
       "count               0.0          39020.000000    39678.0              0.0   \n",
       "mean                NaN              0.043260        0.0              NaN   \n",
       "std                 NaN              0.204324        0.0              NaN   \n",
       "min                 NaN              0.000000        0.0              NaN   \n",
       "25%                 NaN              0.000000        0.0              NaN   \n",
       "50%                 NaN              0.000000        0.0              NaN   \n",
       "75%                 NaN              0.000000        0.0              NaN   \n",
       "max                 NaN              2.000000        0.0              NaN   \n",
       "\n",
       "       total_bal_ex_mort  total_bc_limit  total_il_high_credit_limit  \n",
       "count                0.0             0.0                         0.0  \n",
       "mean                 NaN             NaN                         NaN  \n",
       "std                  NaN             NaN                         NaN  \n",
       "min                  NaN             NaN                         NaN  \n",
       "25%                  NaN             NaN                         NaN  \n",
       "50%                  NaN             NaN                         NaN  \n",
       "75%                  NaN             NaN                         NaN  \n",
       "max                  NaN             NaN                         NaN  \n",
       "\n",
       "[8 rows x 87 columns]"
      ]
     },
     "execution_count": 299,
     "metadata": {},
     "output_type": "execute_result"
    }
   ],
   "source": [
    "loan.describe()"
   ]
  },
  {
   "cell_type": "code",
   "execution_count": 300,
   "metadata": {},
   "outputs": [
    {
     "name": "stdout",
     "output_type": "stream",
     "text": [
      "<class 'pandas.core.frame.DataFrame'>\n",
      "RangeIndex: 39717 entries, 0 to 39716\n",
      "Columns: 111 entries, id to total_il_high_credit_limit\n",
      "dtypes: float64(74), int64(13), object(24)\n",
      "memory usage: 33.6+ MB\n",
      "None \n",
      "\n",
      "(39717, 111)\n"
     ]
    }
   ],
   "source": [
    "# inspect the structure etc.\n",
    "print(loan.info(), \"\\n\")\n",
    "print(loan.shape)"
   ]
  },
  {
   "cell_type": "code",
   "execution_count": 301,
   "metadata": {},
   "outputs": [
    {
     "data": {
      "text/plain": [
       "Index(['id', 'member_id', 'loan_amnt', 'funded_amnt', 'funded_amnt_inv',\n",
       "       'term', 'int_rate', 'installment', 'grade', 'sub_grade',\n",
       "       ...\n",
       "       'num_tl_90g_dpd_24m', 'num_tl_op_past_12m', 'pct_tl_nvr_dlq',\n",
       "       'percent_bc_gt_75', 'pub_rec_bankruptcies', 'tax_liens',\n",
       "       'tot_hi_cred_lim', 'total_bal_ex_mort', 'total_bc_limit',\n",
       "       'total_il_high_credit_limit'],\n",
       "      dtype='object', length=111)"
      ]
     },
     "execution_count": 301,
     "metadata": {},
     "output_type": "execute_result"
    }
   ],
   "source": [
    "loan.columns"
   ]
  },
  {
   "cell_type": "code",
   "execution_count": 302,
   "metadata": {},
   "outputs": [
    {
     "data": {
      "text/plain": [
       "id                                39717\n",
       "member_id                         39717\n",
       "loan_amnt                           885\n",
       "funded_amnt                        1041\n",
       "funded_amnt_inv                    8205\n",
       "term                                  2\n",
       "int_rate                            371\n",
       "installment                       15383\n",
       "grade                                 7\n",
       "sub_grade                            35\n",
       "emp_title                         28820\n",
       "emp_length                           11\n",
       "home_ownership                        5\n",
       "annual_inc                         5318\n",
       "verification_status                   3\n",
       "issue_d                              55\n",
       "loan_status                           3\n",
       "pymnt_plan                            1\n",
       "url                               39717\n",
       "desc                              26527\n",
       "purpose                              14\n",
       "title                             19615\n",
       "zip_code                            823\n",
       "addr_state                           50\n",
       "dti                                2868\n",
       "delinq_2yrs                          11\n",
       "earliest_cr_line                    526\n",
       "inq_last_6mths                        9\n",
       "mths_since_last_delinq               95\n",
       "mths_since_last_record              111\n",
       "                                  ...  \n",
       "mo_sin_old_rev_tl_op                  0\n",
       "mo_sin_rcnt_rev_tl_op                 0\n",
       "mo_sin_rcnt_tl                        0\n",
       "mort_acc                              0\n",
       "mths_since_recent_bc                  0\n",
       "mths_since_recent_bc_dlq              0\n",
       "mths_since_recent_inq                 0\n",
       "mths_since_recent_revol_delinq        0\n",
       "num_accts_ever_120_pd                 0\n",
       "num_actv_bc_tl                        0\n",
       "num_actv_rev_tl                       0\n",
       "num_bc_sats                           0\n",
       "num_bc_tl                             0\n",
       "num_il_tl                             0\n",
       "num_op_rev_tl                         0\n",
       "num_rev_accts                         0\n",
       "num_rev_tl_bal_gt_0                   0\n",
       "num_sats                              0\n",
       "num_tl_120dpd_2m                      0\n",
       "num_tl_30dpd                          0\n",
       "num_tl_90g_dpd_24m                    0\n",
       "num_tl_op_past_12m                    0\n",
       "pct_tl_nvr_dlq                        0\n",
       "percent_bc_gt_75                      0\n",
       "pub_rec_bankruptcies                  3\n",
       "tax_liens                             1\n",
       "tot_hi_cred_lim                       0\n",
       "total_bal_ex_mort                     0\n",
       "total_bc_limit                        0\n",
       "total_il_high_credit_limit            0\n",
       "Length: 111, dtype: int64"
      ]
     },
     "execution_count": 302,
     "metadata": {},
     "output_type": "execute_result"
    }
   ],
   "source": [
    "# unique records in loan dataset\n",
    "loan.nunique()"
   ]
  },
  {
   "cell_type": "markdown",
   "metadata": {},
   "source": [
    "## Missing Value Treatment\n",
    "\n",
    "Let's now move to missing value treatment. \n",
    "\n",
    "Let's have a look at the number of missing values in both the dataframes."
   ]
  },
  {
   "cell_type": "code",
   "execution_count": 303,
   "metadata": {},
   "outputs": [
    {
     "data": {
      "text/plain": [
       "39717"
      ]
     },
     "execution_count": 303,
     "metadata": {},
     "output_type": "execute_result"
    }
   ],
   "source": [
    "# identify the unique number of ids in loan dataset\n",
    "len(loan.id.unique())"
   ]
  },
  {
   "cell_type": "code",
   "execution_count": 304,
   "metadata": {},
   "outputs": [
    {
     "data": {
      "text/plain": [
       "39717"
      ]
     },
     "execution_count": 304,
     "metadata": {},
     "output_type": "execute_result"
    }
   ],
   "source": [
    "len(loan.member_id.unique())"
   ]
  },
  {
   "cell_type": "code",
   "execution_count": 305,
   "metadata": {},
   "outputs": [
    {
     "data": {
      "text/plain": [
       "39717"
      ]
     },
     "execution_count": 305,
     "metadata": {},
     "output_type": "execute_result"
    }
   ],
   "source": [
    "# check if there are any duplciates or nulls on id, memberid columns because there are unique.\n",
    "loan.id.notnull().sum()"
   ]
  },
  {
   "cell_type": "code",
   "execution_count": 306,
   "metadata": {},
   "outputs": [
    {
     "data": {
      "text/plain": [
       "39717"
      ]
     },
     "execution_count": 306,
     "metadata": {},
     "output_type": "execute_result"
    }
   ],
   "source": [
    "loan.member_id.notnull().sum()"
   ]
  },
  {
   "cell_type": "code",
   "execution_count": 307,
   "metadata": {},
   "outputs": [
    {
     "data": {
      "text/plain": [
       "0"
      ]
     },
     "execution_count": 307,
     "metadata": {},
     "output_type": "execute_result"
    }
   ],
   "source": [
    "loan.duplicated('id').sum()"
   ]
  },
  {
   "cell_type": "code",
   "execution_count": 308,
   "metadata": {},
   "outputs": [
    {
     "data": {
      "text/plain": [
       "0"
      ]
     },
     "execution_count": 308,
     "metadata": {},
     "output_type": "execute_result"
    }
   ],
   "source": [
    "loan.duplicated('member_id').sum()"
   ]
  },
  {
   "cell_type": "code",
   "execution_count": 309,
   "metadata": {},
   "outputs": [
    {
     "data": {
      "text/plain": [
       "id                                    0\n",
       "member_id                             0\n",
       "loan_amnt                             0\n",
       "funded_amnt                           0\n",
       "funded_amnt_inv                       0\n",
       "term                                  0\n",
       "int_rate                              0\n",
       "installment                           0\n",
       "grade                                 0\n",
       "sub_grade                             0\n",
       "emp_title                          2459\n",
       "emp_length                         1075\n",
       "home_ownership                        0\n",
       "annual_inc                            0\n",
       "verification_status                   0\n",
       "issue_d                               0\n",
       "loan_status                           0\n",
       "pymnt_plan                            0\n",
       "url                                   0\n",
       "desc                              12940\n",
       "purpose                               0\n",
       "title                                11\n",
       "zip_code                              0\n",
       "addr_state                            0\n",
       "dti                                   0\n",
       "delinq_2yrs                           0\n",
       "earliest_cr_line                      0\n",
       "inq_last_6mths                        0\n",
       "mths_since_last_delinq            25682\n",
       "mths_since_last_record            36931\n",
       "                                  ...  \n",
       "mo_sin_old_rev_tl_op              39717\n",
       "mo_sin_rcnt_rev_tl_op             39717\n",
       "mo_sin_rcnt_tl                    39717\n",
       "mort_acc                          39717\n",
       "mths_since_recent_bc              39717\n",
       "mths_since_recent_bc_dlq          39717\n",
       "mths_since_recent_inq             39717\n",
       "mths_since_recent_revol_delinq    39717\n",
       "num_accts_ever_120_pd             39717\n",
       "num_actv_bc_tl                    39717\n",
       "num_actv_rev_tl                   39717\n",
       "num_bc_sats                       39717\n",
       "num_bc_tl                         39717\n",
       "num_il_tl                         39717\n",
       "num_op_rev_tl                     39717\n",
       "num_rev_accts                     39717\n",
       "num_rev_tl_bal_gt_0               39717\n",
       "num_sats                          39717\n",
       "num_tl_120dpd_2m                  39717\n",
       "num_tl_30dpd                      39717\n",
       "num_tl_90g_dpd_24m                39717\n",
       "num_tl_op_past_12m                39717\n",
       "pct_tl_nvr_dlq                    39717\n",
       "percent_bc_gt_75                  39717\n",
       "pub_rec_bankruptcies                697\n",
       "tax_liens                            39\n",
       "tot_hi_cred_lim                   39717\n",
       "total_bal_ex_mort                 39717\n",
       "total_bc_limit                    39717\n",
       "total_il_high_credit_limit        39717\n",
       "Length: 111, dtype: int64"
      ]
     },
     "execution_count": 309,
     "metadata": {},
     "output_type": "execute_result"
    }
   ],
   "source": [
    "# # column-wise missing values \n",
    "loan.isnull().sum()"
   ]
  },
  {
   "cell_type": "code",
   "execution_count": 310,
   "metadata": {},
   "outputs": [
    {
     "data": {
      "text/plain": [
       "id                                  0.00\n",
       "member_id                           0.00\n",
       "loan_amnt                           0.00\n",
       "funded_amnt                         0.00\n",
       "funded_amnt_inv                     0.00\n",
       "term                                0.00\n",
       "int_rate                            0.00\n",
       "installment                         0.00\n",
       "grade                               0.00\n",
       "sub_grade                           0.00\n",
       "emp_title                           6.19\n",
       "emp_length                          2.71\n",
       "home_ownership                      0.00\n",
       "annual_inc                          0.00\n",
       "verification_status                 0.00\n",
       "issue_d                             0.00\n",
       "loan_status                         0.00\n",
       "pymnt_plan                          0.00\n",
       "url                                 0.00\n",
       "desc                               32.58\n",
       "purpose                             0.00\n",
       "title                               0.03\n",
       "zip_code                            0.00\n",
       "addr_state                          0.00\n",
       "dti                                 0.00\n",
       "delinq_2yrs                         0.00\n",
       "earliest_cr_line                    0.00\n",
       "inq_last_6mths                      0.00\n",
       "mths_since_last_delinq             64.66\n",
       "mths_since_last_record             92.99\n",
       "                                   ...  \n",
       "mo_sin_old_rev_tl_op              100.00\n",
       "mo_sin_rcnt_rev_tl_op             100.00\n",
       "mo_sin_rcnt_tl                    100.00\n",
       "mort_acc                          100.00\n",
       "mths_since_recent_bc              100.00\n",
       "mths_since_recent_bc_dlq          100.00\n",
       "mths_since_recent_inq             100.00\n",
       "mths_since_recent_revol_delinq    100.00\n",
       "num_accts_ever_120_pd             100.00\n",
       "num_actv_bc_tl                    100.00\n",
       "num_actv_rev_tl                   100.00\n",
       "num_bc_sats                       100.00\n",
       "num_bc_tl                         100.00\n",
       "num_il_tl                         100.00\n",
       "num_op_rev_tl                     100.00\n",
       "num_rev_accts                     100.00\n",
       "num_rev_tl_bal_gt_0               100.00\n",
       "num_sats                          100.00\n",
       "num_tl_120dpd_2m                  100.00\n",
       "num_tl_30dpd                      100.00\n",
       "num_tl_90g_dpd_24m                100.00\n",
       "num_tl_op_past_12m                100.00\n",
       "pct_tl_nvr_dlq                    100.00\n",
       "percent_bc_gt_75                  100.00\n",
       "pub_rec_bankruptcies                1.75\n",
       "tax_liens                           0.10\n",
       "tot_hi_cred_lim                   100.00\n",
       "total_bal_ex_mort                 100.00\n",
       "total_bc_limit                    100.00\n",
       "total_il_high_credit_limit        100.00\n",
       "Length: 111, dtype: float64"
      ]
     },
     "execution_count": 310,
     "metadata": {},
     "output_type": "execute_result"
    }
   ],
   "source": [
    "# summing up the missing values (column-wise) and displaying fraction of NaNs\n",
    "round(100*(loan.isnull().sum()/len(loan.index)), 2)"
   ]
  },
  {
   "cell_type": "code",
   "execution_count": 311,
   "metadata": {},
   "outputs": [],
   "source": [
    "# drop columns with more than 39717\n",
    "#loan = loan.loc[:, (loan.isnull().sum(axis=0) <= 39717)]"
   ]
  },
  {
   "cell_type": "code",
   "execution_count": 312,
   "metadata": {},
   "outputs": [],
   "source": [
    "#rename columns\n",
    "# Rename the columns for a better undestanding\n",
    "#data.rename(columns={\"year\": \"YEAR\",\n",
    "#                    \"ISO_code\": \"ISO_CODE\","
   ]
  },
  {
   "cell_type": "code",
   "execution_count": 313,
   "metadata": {},
   "outputs": [],
   "source": [
    "loan = loan.dropna(axis='columns', how='all')\n"
   ]
  },
  {
   "cell_type": "code",
   "execution_count": 314,
   "metadata": {},
   "outputs": [
    {
     "data": {
      "text/plain": [
       "id                             0.00\n",
       "member_id                      0.00\n",
       "loan_amnt                      0.00\n",
       "funded_amnt                    0.00\n",
       "funded_amnt_inv                0.00\n",
       "term                           0.00\n",
       "int_rate                       0.00\n",
       "installment                    0.00\n",
       "grade                          0.00\n",
       "sub_grade                      0.00\n",
       "emp_title                      6.19\n",
       "emp_length                     2.71\n",
       "home_ownership                 0.00\n",
       "annual_inc                     0.00\n",
       "verification_status            0.00\n",
       "issue_d                        0.00\n",
       "loan_status                    0.00\n",
       "pymnt_plan                     0.00\n",
       "url                            0.00\n",
       "desc                          32.58\n",
       "purpose                        0.00\n",
       "title                          0.03\n",
       "zip_code                       0.00\n",
       "addr_state                     0.00\n",
       "dti                            0.00\n",
       "delinq_2yrs                    0.00\n",
       "earliest_cr_line               0.00\n",
       "inq_last_6mths                 0.00\n",
       "mths_since_last_delinq        64.66\n",
       "mths_since_last_record        92.99\n",
       "open_acc                       0.00\n",
       "pub_rec                        0.00\n",
       "revol_bal                      0.00\n",
       "revol_util                     0.13\n",
       "total_acc                      0.00\n",
       "initial_list_status            0.00\n",
       "out_prncp                      0.00\n",
       "out_prncp_inv                  0.00\n",
       "total_pymnt                    0.00\n",
       "total_pymnt_inv                0.00\n",
       "total_rec_prncp                0.00\n",
       "total_rec_int                  0.00\n",
       "total_rec_late_fee             0.00\n",
       "recoveries                     0.00\n",
       "collection_recovery_fee        0.00\n",
       "last_pymnt_d                   0.18\n",
       "last_pymnt_amnt                0.00\n",
       "next_pymnt_d                  97.13\n",
       "last_credit_pull_d             0.01\n",
       "collections_12_mths_ex_med     0.14\n",
       "policy_code                    0.00\n",
       "application_type               0.00\n",
       "acc_now_delinq                 0.00\n",
       "chargeoff_within_12_mths       0.14\n",
       "delinq_amnt                    0.00\n",
       "pub_rec_bankruptcies           1.75\n",
       "tax_liens                      0.10\n",
       "dtype: float64"
      ]
     },
     "execution_count": 314,
     "metadata": {},
     "output_type": "execute_result"
    }
   ],
   "source": [
    "# summing up the missing values (column-wise) and displaying fraction of NaNs\n",
    "round(100*(loan.isnull().sum()/len(loan.index)), 2)"
   ]
  },
  {
   "cell_type": "code",
   "execution_count": 315,
   "metadata": {},
   "outputs": [
    {
     "data": {
      "text/plain": [
       "(39717, 57)"
      ]
     },
     "execution_count": 315,
     "metadata": {},
     "output_type": "execute_result"
    }
   ],
   "source": [
    "loan.shape"
   ]
  },
  {
   "cell_type": "code",
   "execution_count": 316,
   "metadata": {},
   "outputs": [],
   "source": [
    "# lists unique values by each column\n",
    "#for k, v in loan.nunique().to_dict().items():\n",
    "#    print('{}={}'.format(k,v))"
   ]
  },
  {
   "cell_type": "code",
   "execution_count": 317,
   "metadata": {},
   "outputs": [
    {
     "data": {
      "text/plain": [
       "id                            39717\n",
       "member_id                     39717\n",
       "loan_amnt                       885\n",
       "funded_amnt                    1041\n",
       "funded_amnt_inv                8205\n",
       "term                              2\n",
       "int_rate                        371\n",
       "installment                   15383\n",
       "grade                             7\n",
       "sub_grade                        35\n",
       "emp_title                     28820\n",
       "emp_length                       11\n",
       "home_ownership                    5\n",
       "annual_inc                     5318\n",
       "verification_status               3\n",
       "issue_d                          55\n",
       "loan_status                       3\n",
       "pymnt_plan                        1\n",
       "url                           39717\n",
       "desc                          26527\n",
       "purpose                          14\n",
       "title                         19615\n",
       "zip_code                        823\n",
       "addr_state                       50\n",
       "dti                            2868\n",
       "delinq_2yrs                      11\n",
       "earliest_cr_line                526\n",
       "inq_last_6mths                    9\n",
       "mths_since_last_delinq           95\n",
       "mths_since_last_record          111\n",
       "open_acc                         40\n",
       "pub_rec                           5\n",
       "revol_bal                     21711\n",
       "revol_util                     1089\n",
       "total_acc                        82\n",
       "initial_list_status               1\n",
       "out_prncp                      1137\n",
       "out_prncp_inv                  1138\n",
       "total_pymnt                   37850\n",
       "total_pymnt_inv               37518\n",
       "total_rec_prncp                7976\n",
       "total_rec_int                 35148\n",
       "total_rec_late_fee             1356\n",
       "recoveries                     4040\n",
       "collection_recovery_fee        2616\n",
       "last_pymnt_d                    101\n",
       "last_pymnt_amnt               34930\n",
       "next_pymnt_d                      2\n",
       "last_credit_pull_d              106\n",
       "collections_12_mths_ex_med        1\n",
       "policy_code                       1\n",
       "application_type                  1\n",
       "acc_now_delinq                    1\n",
       "chargeoff_within_12_mths          1\n",
       "delinq_amnt                       1\n",
       "pub_rec_bankruptcies              3\n",
       "tax_liens                         1\n",
       "dtype: int64"
      ]
     },
     "execution_count": 317,
     "metadata": {},
     "output_type": "execute_result"
    }
   ],
   "source": [
    "# lists number of unique values by each column\n",
    "loan.apply(lambda x: x.nunique())"
   ]
  },
  {
   "cell_type": "code",
   "execution_count": 321,
   "metadata": {},
   "outputs": [],
   "source": [
    "# removing the columns which has single values like - NA, 0, 'f', 'n' etc.\n",
    "unique = loan.nunique()\n",
    "unique = unique[unique.values == 1]"
   ]
  },
  {
   "cell_type": "code",
   "execution_count": 322,
   "metadata": {},
   "outputs": [
    {
     "name": "stderr",
     "output_type": "stream",
     "text": [
      "C:\\Users\\raj\\Anaconda3\\lib\\site-packages\\ipykernel_launcher.py:1: SettingWithCopyWarning: \n",
      "A value is trying to be set on a copy of a slice from a DataFrame\n",
      "\n",
      "See the caveats in the documentation: http://pandas.pydata.org/pandas-docs/stable/indexing.html#indexing-view-versus-copy\n",
      "  \"\"\"Entry point for launching an IPython kernel.\n"
     ]
    }
   ],
   "source": [
    "loan.drop(labels = list(unique.index), axis =1, inplace=True)"
   ]
  },
  {
   "cell_type": "code",
   "execution_count": 323,
   "metadata": {},
   "outputs": [
    {
     "name": "stdout",
     "output_type": "stream",
     "text": [
      "So now we are left with (39717, 48) rows & columns.\n"
     ]
    }
   ],
   "source": [
    "print(\"So now we are left with\",loan.shape ,\"rows & columns.\")"
   ]
  },
  {
   "cell_type": "code",
   "execution_count": 324,
   "metadata": {},
   "outputs": [],
   "source": [
    "#' Url' and 'desc' columns may not be required for analysis, These can be removed. \n",
    "loan =loan.drop(['desc', 'url'],axis=1)"
   ]
  },
  {
   "cell_type": "code",
   "execution_count": 325,
   "metadata": {},
   "outputs": [
    {
     "data": {
      "text/plain": [
       "(39717, 46)"
      ]
     },
     "execution_count": 325,
     "metadata": {},
     "output_type": "execute_result"
    }
   ],
   "source": [
    "loan.shape"
   ]
  },
  {
   "cell_type": "markdown",
   "metadata": {},
   "source": [
    "Time & date cleaning"
   ]
  },
  {
   "cell_type": "code",
   "execution_count": 326,
   "metadata": {},
   "outputs": [
    {
     "data": {
      "text/plain": [
       "0    Dec-11\n",
       "1    Dec-11\n",
       "2    Dec-11\n",
       "3    Dec-11\n",
       "4    Dec-11\n",
       "Name: issue_d, dtype: object"
      ]
     },
     "execution_count": 326,
     "metadata": {},
     "output_type": "execute_result"
    }
   ],
   "source": [
    "loan['issue_d'].head()"
   ]
  },
  {
   "cell_type": "code",
   "execution_count": 327,
   "metadata": {},
   "outputs": [],
   "source": [
    "loan['issue_month'], loan['issue_year'] = loan['issue_d'].str.split('-', 1).str"
   ]
  },
  {
   "cell_type": "code",
   "execution_count": 328,
   "metadata": {},
   "outputs": [
    {
     "data": {
      "text/plain": [
       "(39717, 48)"
      ]
     },
     "execution_count": 328,
     "metadata": {},
     "output_type": "execute_result"
    }
   ],
   "source": [
    "loan.shape"
   ]
  },
  {
   "cell_type": "markdown",
   "metadata": {},
   "source": [
    "# DATA CLEANSING - NA values           "
   ]
  },
  {
   "cell_type": "code",
   "execution_count": 329,
   "metadata": {},
   "outputs": [
    {
     "data": {
      "text/plain": [
       "0    10.65\n",
       "1    15.27\n",
       "2    15.96\n",
       "3    13.49\n",
       "4    12.69\n",
       "Name: int_rate, dtype: object"
      ]
     },
     "execution_count": 329,
     "metadata": {},
     "output_type": "execute_result"
    }
   ],
   "source": [
    "loan.replace({'int_rate':{'%':''}},regex=True,inplace = True)\n",
    "loan['int_rate'].head()"
   ]
  },
  {
   "cell_type": "code",
   "execution_count": 330,
   "metadata": {},
   "outputs": [
    {
     "data": {
      "text/plain": [
       "0    83.70\n",
       "1     9.40\n",
       "2    98.50\n",
       "3       21\n",
       "4    53.90\n",
       "Name: revol_util, dtype: object"
      ]
     },
     "execution_count": 330,
     "metadata": {},
     "output_type": "execute_result"
    }
   ],
   "source": [
    "loan.replace({'revol_util':{'%':''}},regex=True,inplace = True)\n",
    "loan['revol_util'].head()"
   ]
  },
  {
   "cell_type": "code",
   "execution_count": 331,
   "metadata": {},
   "outputs": [
    {
     "data": {
      "text/plain": [
       "0                Computer\n",
       "1                    bike\n",
       "2    real estate business\n",
       "3                personel\n",
       "4                Personal\n",
       "Name: title, dtype: object"
      ]
     },
     "execution_count": 331,
     "metadata": {},
     "output_type": "execute_result"
    }
   ],
   "source": [
    "loan['title'].head()"
   ]
  },
  {
   "cell_type": "code",
   "execution_count": 332,
   "metadata": {},
   "outputs": [],
   "source": [
    "# title is a title for the loan entered by the borrower. Set NA to empty string.\n",
    "loan.loc[pd.isnull(loan['title'])] = \"\"\n",
    "loan.loc[pd.isnull(loan['emp_title'])] = \"\""
   ]
  },
  {
   "cell_type": "code",
   "execution_count": 224,
   "metadata": {},
   "outputs": [],
   "source": [
    "# revol_util is revolving line utilization rate, or the amount of credit the borrower\n",
    "# is using relative to all available revolving credit.\n",
    "#filtered = pd.isnull(loan['revol_bal'])\n",
    "#filtered.sum()"
   ]
  },
  {
   "cell_type": "code",
   "execution_count": 226,
   "metadata": {},
   "outputs": [],
   "source": [
    "#loan.loc[loan['revol_bal'] !=0 & loan['revol_bal'].isnull()]"
   ]
  },
  {
   "cell_type": "code",
   "execution_count": 333,
   "metadata": {},
   "outputs": [
    {
     "data": {
      "text/plain": [
       "0      \n",
       "1    60\n",
       "2      \n",
       "3    36\n",
       "4    60\n",
       "Name: term, dtype: object"
      ]
     },
     "execution_count": 333,
     "metadata": {},
     "output_type": "execute_result"
    }
   ],
   "source": [
    "#Columns 'term' contains char \"months\" which makes it non-numerical, so remove chars and make the column numeric\n",
    "loan.replace({'term':{' months':''}},regex=True,inplace = True)\n",
    "loan.replace({'term':{' ':''}},regex=True,inplace = True)\n",
    "loan['term'].head()"
   ]
  },
  {
   "cell_type": "code",
   "execution_count": 334,
   "metadata": {},
   "outputs": [
    {
     "data": {
      "text/plain": [
       "id                          0.00\n",
       "member_id                   0.00\n",
       "loan_amnt                   0.00\n",
       "funded_amnt                 0.00\n",
       "funded_amnt_inv             0.00\n",
       "term                        0.00\n",
       "int_rate                    0.00\n",
       "installment                 0.00\n",
       "grade                       0.00\n",
       "sub_grade                   0.00\n",
       "emp_title                   0.00\n",
       "emp_length                  0.14\n",
       "home_ownership              0.00\n",
       "annual_inc                  0.00\n",
       "verification_status         0.00\n",
       "issue_d                     0.00\n",
       "loan_status                 0.00\n",
       "purpose                     0.00\n",
       "title                       0.00\n",
       "zip_code                    0.00\n",
       "addr_state                  0.00\n",
       "dti                         0.00\n",
       "delinq_2yrs                 0.00\n",
       "earliest_cr_line            0.00\n",
       "inq_last_6mths              0.00\n",
       "mths_since_last_delinq     60.56\n",
       "mths_since_last_record     87.35\n",
       "open_acc                    0.00\n",
       "pub_rec                     0.00\n",
       "revol_bal                   0.00\n",
       "revol_util                  0.12\n",
       "total_acc                   0.00\n",
       "out_prncp                   0.00\n",
       "out_prncp_inv               0.00\n",
       "total_pymnt                 0.00\n",
       "total_pymnt_inv             0.00\n",
       "total_rec_prncp             0.00\n",
       "total_rec_int               0.00\n",
       "total_rec_late_fee          0.00\n",
       "recoveries                  0.00\n",
       "collection_recovery_fee     0.00\n",
       "last_pymnt_d                0.16\n",
       "last_pymnt_amnt             0.00\n",
       "next_pymnt_d               91.10\n",
       "last_credit_pull_d          0.00\n",
       "pub_rec_bankruptcies        1.65\n",
       "issue_month                 0.00\n",
       "issue_year                  0.00\n",
       "dtype: float64"
      ]
     },
     "execution_count": 334,
     "metadata": {},
     "output_type": "execute_result"
    }
   ],
   "source": [
    "# check the nulls by column wise\n",
    "round(100*(loan.isnull().sum()/len(loan.index)), 2)"
   ]
  },
  {
   "cell_type": "code",
   "execution_count": 335,
   "metadata": {},
   "outputs": [
    {
     "data": {
      "text/html": [
       "<div>\n",
       "<style scoped>\n",
       "    .dataframe tbody tr th:only-of-type {\n",
       "        vertical-align: middle;\n",
       "    }\n",
       "\n",
       "    .dataframe tbody tr th {\n",
       "        vertical-align: top;\n",
       "    }\n",
       "\n",
       "    .dataframe thead th {\n",
       "        text-align: right;\n",
       "    }\n",
       "</style>\n",
       "<table border=\"1\" class=\"dataframe\">\n",
       "  <thead>\n",
       "    <tr style=\"text-align: right;\">\n",
       "      <th></th>\n",
       "      <th>pub_rec_bankruptcies</th>\n",
       "    </tr>\n",
       "  </thead>\n",
       "  <tbody>\n",
       "    <tr>\n",
       "      <th>count</th>\n",
       "      <td>39063.0</td>\n",
       "    </tr>\n",
       "    <tr>\n",
       "      <th>unique</th>\n",
       "      <td>4.0</td>\n",
       "    </tr>\n",
       "    <tr>\n",
       "      <th>top</th>\n",
       "      <td>0.0</td>\n",
       "    </tr>\n",
       "    <tr>\n",
       "      <th>freq</th>\n",
       "      <td>35081.0</td>\n",
       "    </tr>\n",
       "  </tbody>\n",
       "</table>\n",
       "</div>"
      ],
      "text/plain": [
       "        pub_rec_bankruptcies\n",
       "count                39063.0\n",
       "unique                   4.0\n",
       "top                      0.0\n",
       "freq                 35081.0"
      ]
     },
     "execution_count": 335,
     "metadata": {},
     "output_type": "execute_result"
    }
   ],
   "source": [
    "loan.loc[:, ['pub_rec_bankruptcies']].describe()"
   ]
  },
  {
   "cell_type": "code",
   "execution_count": 336,
   "metadata": {},
   "outputs": [
    {
     "data": {
      "text/plain": [
       "654"
      ]
     },
     "execution_count": 336,
     "metadata": {},
     "output_type": "execute_result"
    }
   ],
   "source": [
    "# lets count number of rows which has nulls.\n",
    "loan['pub_rec_bankruptcies'].isna().sum()"
   ]
  },
  {
   "cell_type": "code",
   "execution_count": 337,
   "metadata": {},
   "outputs": [],
   "source": [
    "# imputing pub_rec_bankruptcies by meandian values\n",
    "numeric_columns = ['pub_rec_bankruptcies']\n",
    "loan[numeric_columns] = loan[numeric_columns].apply(pd.to_numeric)"
   ]
  },
  {
   "cell_type": "code",
   "execution_count": 338,
   "metadata": {},
   "outputs": [],
   "source": [
    "loan['pub_rec_bankruptcies'].fillna((loan['pub_rec_bankruptcies'].median()), inplace=True)"
   ]
  },
  {
   "cell_type": "code",
   "execution_count": 339,
   "metadata": {},
   "outputs": [
    {
     "data": {
      "text/plain": [
       "0"
      ]
     },
     "execution_count": 339,
     "metadata": {},
     "output_type": "execute_result"
    }
   ],
   "source": [
    "# lets count number of rows which has nulls.\n",
    "loan['pub_rec_bankruptcies'].isna().sum()"
   ]
  },
  {
   "cell_type": "code",
   "execution_count": 340,
   "metadata": {},
   "outputs": [
    {
     "data": {
      "text/plain": [
       "46"
      ]
     },
     "execution_count": 340,
     "metadata": {},
     "output_type": "execute_result"
    }
   ],
   "source": [
    "loan['revol_util'].isna().sum()"
   ]
  },
  {
   "cell_type": "code",
   "execution_count": 342,
   "metadata": {},
   "outputs": [],
   "source": [
    "numeric_columns = ['revol_util']\n",
    "loan[numeric_columns] = loan[numeric_columns].apply(pd.to_numeric)"
   ]
  },
  {
   "cell_type": "code",
   "execution_count": 343,
   "metadata": {},
   "outputs": [],
   "source": [
    "loan['revol_util'].fillna((loan['revol_util'].median()), inplace=True)"
   ]
  },
  {
   "cell_type": "code",
   "execution_count": 344,
   "metadata": {},
   "outputs": [
    {
     "data": {
      "text/plain": [
       "0"
      ]
     },
     "execution_count": 344,
     "metadata": {},
     "output_type": "execute_result"
    }
   ],
   "source": [
    "loan['revol_util'].isna().sum()"
   ]
  },
  {
   "cell_type": "code",
   "execution_count": 345,
   "metadata": {},
   "outputs": [
    {
     "data": {
      "text/plain": [
       "0       \n",
       "1    < 1\n",
       "2       \n",
       "3    10+\n",
       "4      1\n",
       "Name: emp_length, dtype: object"
      ]
     },
     "execution_count": 345,
     "metadata": {},
     "output_type": "execute_result"
    }
   ],
   "source": [
    "loan.replace({'emp_length':{' years':''}},regex=True,inplace = True)\n",
    "loan.replace({'emp_length':{' year':''}},regex=True,inplace = True)\n",
    "loan['emp_length'].head()"
   ]
  },
  {
   "cell_type": "code",
   "execution_count": 346,
   "metadata": {},
   "outputs": [
    {
     "name": "stdout",
     "output_type": "stream",
     "text": [
      "['' '< 1' '10+' '1' '3' '8' '9' '5' '4' '6' '2' '7' nan]\n"
     ]
    }
   ],
   "source": [
    "print(loan.emp_length.unique())"
   ]
  },
  {
   "cell_type": "code",
   "execution_count": 347,
   "metadata": {},
   "outputs": [
    {
     "name": "stdout",
     "output_type": "stream",
     "text": [
      "['n/a' '< 1' '10+' '1' '3' '8' '9' '5' '4' '6' '2' '7']\n"
     ]
    }
   ],
   "source": [
    "loan.emp_length.fillna('0',inplace=True)\n",
    "loan.emp_length.replace(['0'],'n/a',inplace=True)\n",
    "loan.emp_length.replace([''],'n/a',inplace=True)\n",
    "print(loan.emp_length.unique())"
   ]
  },
  {
   "cell_type": "code",
   "execution_count": 348,
   "metadata": {},
   "outputs": [],
   "source": [
    "loan['emp_length']= loan['emp_length'].apply(lambda x:x.zfill(2))"
   ]
  },
  {
   "cell_type": "code",
   "execution_count": 349,
   "metadata": {},
   "outputs": [
    {
     "name": "stdout",
     "output_type": "stream",
     "text": [
      "['n/a' '< 1' '10+' '01' '03' '08' '09' '05' '04' '06' '02' '07']\n"
     ]
    }
   ],
   "source": [
    "print(loan.emp_length.unique())"
   ]
  },
  {
   "cell_type": "code",
   "execution_count": 358,
   "metadata": {},
   "outputs": [
    {
     "data": {
      "text/plain": [
       "0    n/a\n",
       "1    < 1\n",
       "2    n/a\n",
       "3    10+\n",
       "4     01\n",
       "Name: emp_length, dtype: object"
      ]
     },
     "execution_count": 358,
     "metadata": {},
     "output_type": "execute_result"
    }
   ],
   "source": [
    "loan['emp_length'].head()"
   ]
  },
  {
   "cell_type": "code",
   "execution_count": 350,
   "metadata": {},
   "outputs": [
    {
     "data": {
      "text/plain": [
       "0       \n",
       "1    309\n",
       "2       \n",
       "3    917\n",
       "4    972\n",
       "Name: zip_code, dtype: object"
      ]
     },
     "execution_count": 350,
     "metadata": {},
     "output_type": "execute_result"
    }
   ],
   "source": [
    "## Removed the xx from zip code column\n",
    "loan.replace({'zip_code':{'xx':''}},regex=True,inplace = True)\n",
    "#loan.zip_code.repalce(['xx'],'',inplace=True)\n",
    "loan.zip_code.head()"
   ]
  },
  {
   "cell_type": "code",
   "execution_count": 351,
   "metadata": {},
   "outputs": [],
   "source": [
    "# There are three possible loan scenarios/statuses: fully paid, current, charged-off.\n",
    "# We are interested in identifying clients who default (charged-off status) so we can\n",
    "# create an additional column to simplify the three statuses into a defaulted binary.\n",
    "loan['defaulted'] = loan['loan_status'].apply(lambda x: 'True' if x == \"Charged Off\" else 'False')"
   ]
  },
  {
   "cell_type": "code",
   "execution_count": 352,
   "metadata": {},
   "outputs": [
    {
     "data": {
      "text/plain": [
       "0    False\n",
       "1     True\n",
       "2    False\n",
       "3    False\n",
       "4    False\n",
       "Name: defaulted, dtype: object"
      ]
     },
     "execution_count": 352,
     "metadata": {},
     "output_type": "execute_result"
    }
   ],
   "source": [
    "loan['defaulted'].head()"
   ]
  },
  {
   "cell_type": "code",
   "execution_count": 353,
   "metadata": {},
   "outputs": [
    {
     "name": "stdout",
     "output_type": "stream",
     "text": [
      "<class 'pandas.core.frame.DataFrame'>\n",
      "RangeIndex: 39717 entries, 0 to 39716\n",
      "Data columns (total 49 columns):\n",
      "id                         39717 non-null object\n",
      "member_id                  39717 non-null object\n",
      "loan_amnt                  39717 non-null object\n",
      "funded_amnt                39717 non-null object\n",
      "funded_amnt_inv            39717 non-null object\n",
      "term                       39717 non-null object\n",
      "int_rate                   39717 non-null object\n",
      "installment                39717 non-null object\n",
      "grade                      39717 non-null object\n",
      "sub_grade                  39717 non-null object\n",
      "emp_title                  39717 non-null object\n",
      "emp_length                 39717 non-null object\n",
      "home_ownership             39717 non-null object\n",
      "annual_inc                 39717 non-null object\n",
      "verification_status        39717 non-null object\n",
      "issue_d                    39717 non-null object\n",
      "loan_status                39717 non-null object\n",
      "purpose                    39717 non-null object\n",
      "title                      39717 non-null object\n",
      "zip_code                   39717 non-null object\n",
      "addr_state                 39717 non-null object\n",
      "dti                        39717 non-null object\n",
      "delinq_2yrs                39717 non-null object\n",
      "earliest_cr_line           39717 non-null object\n",
      "inq_last_6mths             39717 non-null object\n",
      "mths_since_last_delinq     15663 non-null object\n",
      "mths_since_last_record     5023 non-null object\n",
      "open_acc                   39717 non-null object\n",
      "pub_rec                    39717 non-null object\n",
      "revol_bal                  39717 non-null object\n",
      "revol_util                 39717 non-null float64\n",
      "total_acc                  39717 non-null object\n",
      "out_prncp                  39717 non-null object\n",
      "out_prncp_inv              39717 non-null object\n",
      "total_pymnt                39717 non-null object\n",
      "total_pymnt_inv            39717 non-null object\n",
      "total_rec_prncp            39717 non-null object\n",
      "total_rec_int              39717 non-null object\n",
      "total_rec_late_fee         39717 non-null object\n",
      "recoveries                 39717 non-null object\n",
      "collection_recovery_fee    39717 non-null object\n",
      "last_pymnt_d               39653 non-null object\n",
      "last_pymnt_amnt            39717 non-null object\n",
      "next_pymnt_d               3535 non-null object\n",
      "last_credit_pull_d         39717 non-null object\n",
      "pub_rec_bankruptcies       39717 non-null float64\n",
      "issue_month                39717 non-null object\n",
      "issue_year                 39717 non-null object\n",
      "defaulted                  39717 non-null object\n",
      "dtypes: float64(2), object(47)\n",
      "memory usage: 14.8+ MB\n"
     ]
    }
   ],
   "source": [
    "loan.info()"
   ]
  },
  {
   "cell_type": "code",
   "execution_count": 354,
   "metadata": {},
   "outputs": [],
   "source": [
    "numeric_columns = ['loan_amnt','funded_amnt','funded_amnt_inv','installment','annual_inc','total_pymnt','total_pymnt_inv','total_rec_prncp',\n",
    "                    'total_rec_int','total_rec_late_fee','collection_recovery_fee','recoveries','dti']\n",
    "\n",
    "loan[numeric_columns] = loan[numeric_columns].apply(pd.to_numeric)"
   ]
  },
  {
   "cell_type": "code",
   "execution_count": 355,
   "metadata": {},
   "outputs": [
    {
     "name": "stdout",
     "output_type": "stream",
     "text": [
      "<class 'pandas.core.frame.DataFrame'>\n",
      "RangeIndex: 39717 entries, 0 to 39716\n",
      "Data columns (total 49 columns):\n",
      "id                         39717 non-null object\n",
      "member_id                  39717 non-null object\n",
      "loan_amnt                  37249 non-null float64\n",
      "funded_amnt                37249 non-null float64\n",
      "funded_amnt_inv            37249 non-null float64\n",
      "term                       39717 non-null object\n",
      "int_rate                   39717 non-null object\n",
      "installment                37249 non-null float64\n",
      "grade                      39717 non-null object\n",
      "sub_grade                  39717 non-null object\n",
      "emp_title                  39717 non-null object\n",
      "emp_length                 39717 non-null object\n",
      "home_ownership             39717 non-null object\n",
      "annual_inc                 37249 non-null float64\n",
      "verification_status        39717 non-null object\n",
      "issue_d                    39717 non-null object\n",
      "loan_status                39717 non-null object\n",
      "purpose                    39717 non-null object\n",
      "title                      39717 non-null object\n",
      "zip_code                   39717 non-null object\n",
      "addr_state                 39717 non-null object\n",
      "dti                        37249 non-null float64\n",
      "delinq_2yrs                39717 non-null object\n",
      "earliest_cr_line           39717 non-null object\n",
      "inq_last_6mths             39717 non-null object\n",
      "mths_since_last_delinq     15663 non-null object\n",
      "mths_since_last_record     5023 non-null object\n",
      "open_acc                   39717 non-null object\n",
      "pub_rec                    39717 non-null object\n",
      "revol_bal                  39717 non-null object\n",
      "revol_util                 39717 non-null float64\n",
      "total_acc                  39717 non-null object\n",
      "out_prncp                  39717 non-null object\n",
      "out_prncp_inv              39717 non-null object\n",
      "total_pymnt                37249 non-null float64\n",
      "total_pymnt_inv            37249 non-null float64\n",
      "total_rec_prncp            37249 non-null float64\n",
      "total_rec_int              37249 non-null float64\n",
      "total_rec_late_fee         37249 non-null float64\n",
      "recoveries                 37249 non-null float64\n",
      "collection_recovery_fee    37249 non-null float64\n",
      "last_pymnt_d               39653 non-null object\n",
      "last_pymnt_amnt            39717 non-null object\n",
      "next_pymnt_d               3535 non-null object\n",
      "last_credit_pull_d         39717 non-null object\n",
      "pub_rec_bankruptcies       39717 non-null float64\n",
      "issue_month                39717 non-null object\n",
      "issue_year                 39717 non-null object\n",
      "defaulted                  39717 non-null object\n",
      "dtypes: float64(15), object(34)\n",
      "memory usage: 14.8+ MB\n"
     ]
    }
   ],
   "source": [
    "loan.info()"
   ]
  },
  {
   "cell_type": "code",
   "execution_count": 356,
   "metadata": {},
   "outputs": [],
   "source": [
    "loan['income_bin'] = round(loan['annual_inc'] / 10000, 0) * 10000\n",
    "loan['loan_amnt_bin'] = round(loan['loan_amnt']/ 2500, 0) * 2500\n",
    "loan['dti_bin'] = round(loan['dti'], 0)\n",
    "loan['revol_util_bin'] = round(loan['revol_util'] / 10, 0) * 10"
   ]
  },
  {
   "cell_type": "code",
   "execution_count": 357,
   "metadata": {},
   "outputs": [
    {
     "name": "stdout",
     "output_type": "stream",
     "text": [
      "<class 'pandas.core.frame.DataFrame'>\n",
      "RangeIndex: 39717 entries, 0 to 39716\n",
      "Data columns (total 53 columns):\n",
      "id                         39717 non-null object\n",
      "member_id                  39717 non-null object\n",
      "loan_amnt                  37249 non-null float64\n",
      "funded_amnt                37249 non-null float64\n",
      "funded_amnt_inv            37249 non-null float64\n",
      "term                       39717 non-null object\n",
      "int_rate                   39717 non-null object\n",
      "installment                37249 non-null float64\n",
      "grade                      39717 non-null object\n",
      "sub_grade                  39717 non-null object\n",
      "emp_title                  39717 non-null object\n",
      "emp_length                 39717 non-null object\n",
      "home_ownership             39717 non-null object\n",
      "annual_inc                 37249 non-null float64\n",
      "verification_status        39717 non-null object\n",
      "issue_d                    39717 non-null object\n",
      "loan_status                39717 non-null object\n",
      "purpose                    39717 non-null object\n",
      "title                      39717 non-null object\n",
      "zip_code                   39717 non-null object\n",
      "addr_state                 39717 non-null object\n",
      "dti                        37249 non-null float64\n",
      "delinq_2yrs                39717 non-null object\n",
      "earliest_cr_line           39717 non-null object\n",
      "inq_last_6mths             39717 non-null object\n",
      "mths_since_last_delinq     15663 non-null object\n",
      "mths_since_last_record     5023 non-null object\n",
      "open_acc                   39717 non-null object\n",
      "pub_rec                    39717 non-null object\n",
      "revol_bal                  39717 non-null object\n",
      "revol_util                 39717 non-null float64\n",
      "total_acc                  39717 non-null object\n",
      "out_prncp                  39717 non-null object\n",
      "out_prncp_inv              39717 non-null object\n",
      "total_pymnt                37249 non-null float64\n",
      "total_pymnt_inv            37249 non-null float64\n",
      "total_rec_prncp            37249 non-null float64\n",
      "total_rec_int              37249 non-null float64\n",
      "total_rec_late_fee         37249 non-null float64\n",
      "recoveries                 37249 non-null float64\n",
      "collection_recovery_fee    37249 non-null float64\n",
      "last_pymnt_d               39653 non-null object\n",
      "last_pymnt_amnt            39717 non-null object\n",
      "next_pymnt_d               3535 non-null object\n",
      "last_credit_pull_d         39717 non-null object\n",
      "pub_rec_bankruptcies       39717 non-null float64\n",
      "issue_month                39717 non-null object\n",
      "issue_year                 39717 non-null object\n",
      "defaulted                  39717 non-null object\n",
      "income_bin                 37249 non-null float64\n",
      "loan_amnt_bin              37249 non-null float64\n",
      "dti_bin                    37249 non-null float64\n",
      "revol_util_bin             39717 non-null float64\n",
      "dtypes: float64(19), object(34)\n",
      "memory usage: 16.1+ MB\n"
     ]
    }
   ],
   "source": [
    "loan.info()"
   ]
  },
  {
   "cell_type": "markdown",
   "metadata": {},
   "source": [
    "Handling date & time columns "
   ]
  },
  {
   "cell_type": "code",
   "execution_count": 370,
   "metadata": {},
   "outputs": [
    {
     "data": {
      "text/plain": [
       "0    Dec-11\n",
       "1    Dec-11\n",
       "2    Dec-11\n",
       "3    Dec-11\n",
       "4    Dec-11\n",
       "Name: issue_d, dtype: object"
      ]
     },
     "execution_count": 370,
     "metadata": {},
     "output_type": "execute_result"
    }
   ],
   "source": [
    "loan['issue_d'].head()"
   ]
  },
  {
   "cell_type": "code",
   "execution_count": 360,
   "metadata": {},
   "outputs": [],
   "source": [
    "#loan['issue_d'] = '01-' + loan['issue_d']"
   ]
  },
  {
   "cell_type": "code",
   "execution_count": 361,
   "metadata": {},
   "outputs": [],
   "source": [
    "#loan['issue_d'] = pd.to_datetime(loan['issue_d'], errors='coerce')"
   ]
  },
  {
   "cell_type": "code",
   "execution_count": 362,
   "metadata": {},
   "outputs": [
    {
     "data": {
      "text/plain": [
       "0          NaT\n",
       "1   2011-12-01\n",
       "2          NaT\n",
       "3   2011-12-01\n",
       "4   2011-12-01\n",
       "Name: issue_d, dtype: datetime64[ns]"
      ]
     },
     "execution_count": 362,
     "metadata": {},
     "output_type": "execute_result"
    }
   ],
   "source": [
    "#loan['issue_d'].head()"
   ]
  },
  {
   "cell_type": "code",
   "execution_count": 375,
   "metadata": {},
   "outputs": [],
   "source": [
    "#loan['earliest_cr_line'] = loan_data['earliest_cr_line']"
   ]
  },
  {
   "cell_type": "code",
   "execution_count": 376,
   "metadata": {},
   "outputs": [
    {
     "data": {
      "text/plain": [
       "0"
      ]
     },
     "execution_count": 376,
     "metadata": {},
     "output_type": "execute_result"
    }
   ],
   "source": [
    "loan['earliest_cr_line'].isna().sum()"
   ]
  },
  {
   "cell_type": "code",
   "execution_count": 377,
   "metadata": {},
   "outputs": [
    {
     "data": {
      "text/plain": [
       "0    Jan-85\n",
       "1    Apr-99\n",
       "2    Nov-01\n",
       "3    Feb-96\n",
       "4    Jan-96\n",
       "Name: earliest_cr_line, dtype: object"
      ]
     },
     "execution_count": 377,
     "metadata": {},
     "output_type": "execute_result"
    }
   ],
   "source": [
    "loan['earliest_cr_line'].head()"
   ]
  },
  {
   "cell_type": "code",
   "execution_count": 372,
   "metadata": {},
   "outputs": [],
   "source": [
    "#loan['earliest_cr_line'] = pd.to_datetime(loan['earliest_cr_line'])\n",
    "#loan['earliest_cr_line'] = pd.to_datetime(loan['earliest_cr_line'], errors='coerce')"
   ]
  },
  {
   "cell_type": "code",
   "execution_count": null,
   "metadata": {},
   "outputs": [],
   "source": [
    "# Convert Date columns to datetime type\n",
    "# df['Order_Date'] = pd.to_datetime(df['Order_Date'])"
   ]
  },
  {
   "cell_type": "code",
   "execution_count": 273,
   "metadata": {},
   "outputs": [],
   "source": [
    "#loan['last_pymnt_d'] = pd.to_datetime(loan['last_pymnt_d'], errors='coerce')"
   ]
  },
  {
   "cell_type": "code",
   "execution_count": 274,
   "metadata": {},
   "outputs": [],
   "source": [
    "#loan['next_pymnt_d'] = pd.to_datetime(loan['next_pymnt_d'], errors='coerce')"
   ]
  },
  {
   "cell_type": "code",
   "execution_count": 275,
   "metadata": {},
   "outputs": [],
   "source": [
    "#loan['last_credit_pull_d'] = pd.to_datetime(loan['last_credit_pull_d'], errors='coerce')"
   ]
  },
  {
   "cell_type": "code",
   "execution_count": 378,
   "metadata": {},
   "outputs": [
    {
     "name": "stdout",
     "output_type": "stream",
     "text": [
      "<class 'pandas.core.frame.DataFrame'>\n",
      "RangeIndex: 39717 entries, 0 to 39716\n",
      "Data columns (total 53 columns):\n",
      "id                         39717 non-null object\n",
      "member_id                  39717 non-null object\n",
      "loan_amnt                  37249 non-null float64\n",
      "funded_amnt                37249 non-null float64\n",
      "funded_amnt_inv            37249 non-null float64\n",
      "term                       39717 non-null object\n",
      "int_rate                   39717 non-null object\n",
      "installment                37249 non-null float64\n",
      "grade                      39717 non-null object\n",
      "sub_grade                  39717 non-null object\n",
      "emp_title                  39717 non-null object\n",
      "emp_length                 39717 non-null object\n",
      "home_ownership             39717 non-null object\n",
      "annual_inc                 37249 non-null float64\n",
      "verification_status        39717 non-null object\n",
      "issue_d                    39717 non-null object\n",
      "loan_status                39717 non-null object\n",
      "purpose                    39717 non-null object\n",
      "title                      39717 non-null object\n",
      "zip_code                   39717 non-null object\n",
      "addr_state                 39717 non-null object\n",
      "dti                        37249 non-null float64\n",
      "delinq_2yrs                39717 non-null object\n",
      "earliest_cr_line           39717 non-null object\n",
      "inq_last_6mths             39717 non-null object\n",
      "mths_since_last_delinq     15663 non-null object\n",
      "mths_since_last_record     5023 non-null object\n",
      "open_acc                   39717 non-null object\n",
      "pub_rec                    39717 non-null object\n",
      "revol_bal                  39717 non-null object\n",
      "revol_util                 39717 non-null float64\n",
      "total_acc                  39717 non-null object\n",
      "out_prncp                  39717 non-null object\n",
      "out_prncp_inv              39717 non-null object\n",
      "total_pymnt                37249 non-null float64\n",
      "total_pymnt_inv            37249 non-null float64\n",
      "total_rec_prncp            37249 non-null float64\n",
      "total_rec_int              37249 non-null float64\n",
      "total_rec_late_fee         37249 non-null float64\n",
      "recoveries                 37249 non-null float64\n",
      "collection_recovery_fee    37249 non-null float64\n",
      "last_pymnt_d               39653 non-null object\n",
      "last_pymnt_amnt            39717 non-null object\n",
      "next_pymnt_d               3535 non-null object\n",
      "last_credit_pull_d         39717 non-null object\n",
      "pub_rec_bankruptcies       39717 non-null float64\n",
      "issue_month                39717 non-null object\n",
      "issue_year                 39717 non-null object\n",
      "defaulted                  39717 non-null object\n",
      "income_bin                 37249 non-null float64\n",
      "loan_amnt_bin              37249 non-null float64\n",
      "dti_bin                    37249 non-null float64\n",
      "revol_util_bin             39717 non-null float64\n",
      "dtypes: float64(19), object(34)\n",
      "memory usage: 16.1+ MB\n"
     ]
    }
   ],
   "source": [
    "loan.info()"
   ]
  },
  {
   "cell_type": "markdown",
   "metadata": {},
   "source": [
    "Checking for outliers"
   ]
  },
  {
   "cell_type": "code",
   "execution_count": 379,
   "metadata": {},
   "outputs": [
    {
     "data": {
      "text/plain": [
       "id                          0.00\n",
       "member_id                   0.00\n",
       "loan_amnt                   6.21\n",
       "funded_amnt                 6.21\n",
       "funded_amnt_inv             6.21\n",
       "term                        0.00\n",
       "int_rate                    0.00\n",
       "installment                 6.21\n",
       "grade                       0.00\n",
       "sub_grade                   0.00\n",
       "emp_title                   0.00\n",
       "emp_length                  0.00\n",
       "home_ownership              0.00\n",
       "annual_inc                  6.21\n",
       "verification_status         0.00\n",
       "issue_d                     0.00\n",
       "loan_status                 0.00\n",
       "purpose                     0.00\n",
       "title                       0.00\n",
       "zip_code                    0.00\n",
       "addr_state                  0.00\n",
       "dti                         6.21\n",
       "delinq_2yrs                 0.00\n",
       "earliest_cr_line            0.00\n",
       "inq_last_6mths              0.00\n",
       "mths_since_last_delinq     60.56\n",
       "mths_since_last_record     87.35\n",
       "open_acc                    0.00\n",
       "pub_rec                     0.00\n",
       "revol_bal                   0.00\n",
       "revol_util                  0.00\n",
       "total_acc                   0.00\n",
       "out_prncp                   0.00\n",
       "out_prncp_inv               0.00\n",
       "total_pymnt                 6.21\n",
       "total_pymnt_inv             6.21\n",
       "total_rec_prncp             6.21\n",
       "total_rec_int               6.21\n",
       "total_rec_late_fee          6.21\n",
       "recoveries                  6.21\n",
       "collection_recovery_fee     6.21\n",
       "last_pymnt_d                0.16\n",
       "last_pymnt_amnt             0.00\n",
       "next_pymnt_d               91.10\n",
       "last_credit_pull_d          0.00\n",
       "pub_rec_bankruptcies        0.00\n",
       "issue_month                 0.00\n",
       "issue_year                  0.00\n",
       "defaulted                   0.00\n",
       "income_bin                  6.21\n",
       "loan_amnt_bin               6.21\n",
       "dti_bin                     6.21\n",
       "revol_util_bin              0.00\n",
       "dtype: float64"
      ]
     },
     "execution_count": 379,
     "metadata": {},
     "output_type": "execute_result"
    }
   ],
   "source": [
    "# check the nulls by column wise\n",
    "round(100*(loan.isnull().sum()/len(loan.index)), 2)"
   ]
  },
  {
   "cell_type": "code",
   "execution_count": 380,
   "metadata": {},
   "outputs": [],
   "source": [
    "# Checking for outliers in the continuous variables\n",
    "num_columns = loan[['annual_inc','funded_amnt','funded_amnt_inv','loan_amnt','total_pymnt']]"
   ]
  },
  {
   "cell_type": "code",
   "execution_count": 381,
   "metadata": {},
   "outputs": [
    {
     "data": {
      "text/html": [
       "<div>\n",
       "<style scoped>\n",
       "    .dataframe tbody tr th:only-of-type {\n",
       "        vertical-align: middle;\n",
       "    }\n",
       "\n",
       "    .dataframe tbody tr th {\n",
       "        vertical-align: top;\n",
       "    }\n",
       "\n",
       "    .dataframe thead th {\n",
       "        text-align: right;\n",
       "    }\n",
       "</style>\n",
       "<table border=\"1\" class=\"dataframe\">\n",
       "  <thead>\n",
       "    <tr style=\"text-align: right;\">\n",
       "      <th></th>\n",
       "      <th>annual_inc</th>\n",
       "      <th>funded_amnt</th>\n",
       "      <th>funded_amnt_inv</th>\n",
       "      <th>loan_amnt</th>\n",
       "      <th>total_pymnt</th>\n",
       "    </tr>\n",
       "  </thead>\n",
       "  <tbody>\n",
       "    <tr>\n",
       "      <th>count</th>\n",
       "      <td>3.724900e+04</td>\n",
       "      <td>37249.000000</td>\n",
       "      <td>37249.000000</td>\n",
       "      <td>37249.000000</td>\n",
       "      <td>37249.000000</td>\n",
       "    </tr>\n",
       "    <tr>\n",
       "      <th>mean</th>\n",
       "      <td>6.920824e+04</td>\n",
       "      <td>10998.771779</td>\n",
       "      <td>10438.767006</td>\n",
       "      <td>11270.193160</td>\n",
       "      <td>12242.123399</td>\n",
       "    </tr>\n",
       "    <tr>\n",
       "      <th>std</th>\n",
       "      <td>6.416512e+04</td>\n",
       "      <td>7155.807905</td>\n",
       "      <td>7098.441640</td>\n",
       "      <td>7419.870855</td>\n",
       "      <td>9022.889264</td>\n",
       "    </tr>\n",
       "    <tr>\n",
       "      <th>min</th>\n",
       "      <td>4.000000e+03</td>\n",
       "      <td>500.000000</td>\n",
       "      <td>0.000000</td>\n",
       "      <td>500.000000</td>\n",
       "      <td>0.000000</td>\n",
       "    </tr>\n",
       "    <tr>\n",
       "      <th>25%</th>\n",
       "      <td>4.150000e+04</td>\n",
       "      <td>5500.000000</td>\n",
       "      <td>5000.000000</td>\n",
       "      <td>5500.000000</td>\n",
       "      <td>5639.779382</td>\n",
       "    </tr>\n",
       "    <tr>\n",
       "      <th>50%</th>\n",
       "      <td>6.000000e+04</td>\n",
       "      <td>9975.000000</td>\n",
       "      <td>9000.000000</td>\n",
       "      <td>10000.000000</td>\n",
       "      <td>10050.838560</td>\n",
       "    </tr>\n",
       "    <tr>\n",
       "      <th>75%</th>\n",
       "      <td>8.271000e+04</td>\n",
       "      <td>15000.000000</td>\n",
       "      <td>14400.000000</td>\n",
       "      <td>15000.000000</td>\n",
       "      <td>16631.670000</td>\n",
       "    </tr>\n",
       "    <tr>\n",
       "      <th>90%</th>\n",
       "      <td>1.150000e+05</td>\n",
       "      <td>20950.000000</td>\n",
       "      <td>20000.000000</td>\n",
       "      <td>22000.000000</td>\n",
       "      <td>24834.872000</td>\n",
       "    </tr>\n",
       "    <tr>\n",
       "      <th>95%</th>\n",
       "      <td>1.400000e+05</td>\n",
       "      <td>25000.000000</td>\n",
       "      <td>24725.000000</td>\n",
       "      <td>25000.000000</td>\n",
       "      <td>30256.331300</td>\n",
       "    </tr>\n",
       "    <tr>\n",
       "      <th>99%</th>\n",
       "      <td>2.300000e+05</td>\n",
       "      <td>35000.000000</td>\n",
       "      <td>34725.000000</td>\n",
       "      <td>35000.000000</td>\n",
       "      <td>42095.478974</td>\n",
       "    </tr>\n",
       "    <tr>\n",
       "      <th>max</th>\n",
       "      <td>6.000000e+06</td>\n",
       "      <td>35000.000000</td>\n",
       "      <td>35000.000000</td>\n",
       "      <td>35000.000000</td>\n",
       "      <td>58563.679930</td>\n",
       "    </tr>\n",
       "  </tbody>\n",
       "</table>\n",
       "</div>"
      ],
      "text/plain": [
       "         annual_inc   funded_amnt  funded_amnt_inv     loan_amnt   total_pymnt\n",
       "count  3.724900e+04  37249.000000     37249.000000  37249.000000  37249.000000\n",
       "mean   6.920824e+04  10998.771779     10438.767006  11270.193160  12242.123399\n",
       "std    6.416512e+04   7155.807905      7098.441640   7419.870855   9022.889264\n",
       "min    4.000000e+03    500.000000         0.000000    500.000000      0.000000\n",
       "25%    4.150000e+04   5500.000000      5000.000000   5500.000000   5639.779382\n",
       "50%    6.000000e+04   9975.000000      9000.000000  10000.000000  10050.838560\n",
       "75%    8.271000e+04  15000.000000     14400.000000  15000.000000  16631.670000\n",
       "90%    1.150000e+05  20950.000000     20000.000000  22000.000000  24834.872000\n",
       "95%    1.400000e+05  25000.000000     24725.000000  25000.000000  30256.331300\n",
       "99%    2.300000e+05  35000.000000     34725.000000  35000.000000  42095.478974\n",
       "max    6.000000e+06  35000.000000     35000.000000  35000.000000  58563.679930"
      ]
     },
     "execution_count": 381,
     "metadata": {},
     "output_type": "execute_result"
    }
   ],
   "source": [
    "# Checking outliers at 25%,50%,75%,90%,95% and 99%\n",
    "num_columns.describe(percentiles=[.25,.5,.75,.90,.95,.99])"
   ]
  },
  {
   "cell_type": "code",
   "execution_count": 382,
   "metadata": {},
   "outputs": [
    {
     "data": {
      "image/png": "[encoded data removed]",
      "text/plain": [
       "<matplotlib.figure.Figure at 0x27544a64780>"
      ]
     },
     "metadata": {},
     "output_type": "display_data"
    }
   ],
   "source": [
    "# boxplot\n",
    "sns.boxplot(y=loan['annual_inc'])\n",
    "plt.title('annual_inc')\n",
    "plt.show()"
   ]
  },
  {
   "cell_type": "code",
   "execution_count": 383,
   "metadata": {},
   "outputs": [
    {
     "data": {
      "image/png": "[encoded data removed]",
      "text/plain": [
       "<matplotlib.figure.Figure at 0x27545345908>"
      ]
     },
     "metadata": {},
     "output_type": "display_data"
    }
   ],
   "source": [
    "year_wise =loan.groupby(by= [loan.issue_year])[['loan_status']].count()\n",
    "year_wise.rename(columns={\"loan_status\": \"count\"},inplace=True)\n",
    "ax =year_wise.plot(figsize=(20,8))\n",
    "year_wise.plot(kind='bar',figsize=(20,8),ax = ax)\n",
    "plt.show()"
   ]
  },
  {
   "cell_type": "code",
   "execution_count": 384,
   "metadata": {},
   "outputs": [
    {
     "data": {
      "image/png": "[encoded data removed]",
      "text/plain": [
       "<matplotlib.figure.Figure at 0x27545572da0>"
      ]
     },
     "metadata": {},
     "output_type": "display_data"
    }
   ],
   "source": [
    "plt.figure(figsize=(16,12))\n",
    "sns.boxplot(data =loan, x='purpose', y='loan_amnt', hue ='loan_status')\n",
    "plt.title('Purpose of Loan vs Loan Amount')\n",
    "plt.show()"
   ]
  },
  {
   "cell_type": "code",
   "execution_count": 385,
   "metadata": {},
   "outputs": [
    {
     "data": {
      "text/html": [
       "<div>\n",
       "<style scoped>\n",
       "    .dataframe tbody tr th:only-of-type {\n",
       "        vertical-align: middle;\n",
       "    }\n",
       "\n",
       "    .dataframe tbody tr th {\n",
       "        vertical-align: top;\n",
       "    }\n",
       "\n",
       "    .dataframe thead th {\n",
       "        text-align: right;\n",
       "    }\n",
       "</style>\n",
       "<table border=\"1\" class=\"dataframe\">\n",
       "  <thead>\n",
       "    <tr style=\"text-align: right;\">\n",
       "      <th></th>\n",
       "      <th>loan_amnt</th>\n",
       "      <th>funded_amnt</th>\n",
       "      <th>funded_amnt_inv</th>\n",
       "      <th>installment</th>\n",
       "      <th>annual_inc</th>\n",
       "      <th>dti</th>\n",
       "      <th>revol_util</th>\n",
       "      <th>total_pymnt</th>\n",
       "      <th>total_pymnt_inv</th>\n",
       "      <th>total_rec_prncp</th>\n",
       "      <th>total_rec_int</th>\n",
       "      <th>total_rec_late_fee</th>\n",
       "      <th>recoveries</th>\n",
       "      <th>collection_recovery_fee</th>\n",
       "      <th>pub_rec_bankruptcies</th>\n",
       "      <th>income_bin</th>\n",
       "      <th>loan_amnt_bin</th>\n",
       "      <th>dti_bin</th>\n",
       "      <th>revol_util_bin</th>\n",
       "    </tr>\n",
       "  </thead>\n",
       "  <tbody>\n",
       "    <tr>\n",
       "      <th>loan_amnt</th>\n",
       "      <td>1.000000</td>\n",
       "      <td>0.981458</td>\n",
       "      <td>0.938536</td>\n",
       "      <td>0.929498</td>\n",
       "      <td>0.258181</td>\n",
       "      <td>0.068464</td>\n",
       "      <td>0.070414</td>\n",
       "      <td>0.887079</td>\n",
       "      <td>0.853589</td>\n",
       "      <td>0.852999</td>\n",
       "      <td>0.729618</td>\n",
       "      <td>0.042857</td>\n",
       "      <td>0.135177</td>\n",
       "      <td>0.074146</td>\n",
       "      <td>-0.031147</td>\n",
       "      <td>0.257742</td>\n",
       "      <td>0.996459</td>\n",
       "      <td>0.068434</td>\n",
       "      <td>0.069355</td>\n",
       "    </tr>\n",
       "    <tr>\n",
       "      <th>funded_amnt</th>\n",
       "      <td>0.981458</td>\n",
       "      <td>1.000000</td>\n",
       "      <td>0.957027</td>\n",
       "      <td>0.955426</td>\n",
       "      <td>0.253713</td>\n",
       "      <td>0.068614</td>\n",
       "      <td>0.074327</td>\n",
       "      <td>0.903695</td>\n",
       "      <td>0.870213</td>\n",
       "      <td>0.871261</td>\n",
       "      <td>0.737640</td>\n",
       "      <td>0.044677</td>\n",
       "      <td>0.135740</td>\n",
       "      <td>0.075895</td>\n",
       "      <td>-0.032769</td>\n",
       "      <td>0.253373</td>\n",
       "      <td>0.977944</td>\n",
       "      <td>0.068532</td>\n",
       "      <td>0.073227</td>\n",
       "    </tr>\n",
       "    <tr>\n",
       "      <th>funded_amnt_inv</th>\n",
       "      <td>0.938536</td>\n",
       "      <td>0.957027</td>\n",
       "      <td>1.000000</td>\n",
       "      <td>0.902334</td>\n",
       "      <td>0.241358</td>\n",
       "      <td>0.077538</td>\n",
       "      <td>0.079079</td>\n",
       "      <td>0.881127</td>\n",
       "      <td>0.914087</td>\n",
       "      <td>0.845976</td>\n",
       "      <td>0.730822</td>\n",
       "      <td>0.025146</td>\n",
       "      <td>0.124553</td>\n",
       "      <td>0.063334</td>\n",
       "      <td>-0.034107</td>\n",
       "      <td>0.241004</td>\n",
       "      <td>0.935165</td>\n",
       "      <td>0.077442</td>\n",
       "      <td>0.078186</td>\n",
       "    </tr>\n",
       "    <tr>\n",
       "      <th>installment</th>\n",
       "      <td>0.929498</td>\n",
       "      <td>0.955426</td>\n",
       "      <td>0.902334</td>\n",
       "      <td>1.000000</td>\n",
       "      <td>0.255814</td>\n",
       "      <td>0.057049</td>\n",
       "      <td>0.100673</td>\n",
       "      <td>0.856765</td>\n",
       "      <td>0.815761</td>\n",
       "      <td>0.851279</td>\n",
       "      <td>0.634213</td>\n",
       "      <td>0.053707</td>\n",
       "      <td>0.117058</td>\n",
       "      <td>0.076116</td>\n",
       "      <td>-0.029297</td>\n",
       "      <td>0.255551</td>\n",
       "      <td>0.926390</td>\n",
       "      <td>0.057110</td>\n",
       "      <td>0.099530</td>\n",
       "    </tr>\n",
       "    <tr>\n",
       "      <th>annual_inc</th>\n",
       "      <td>0.258181</td>\n",
       "      <td>0.253713</td>\n",
       "      <td>0.241358</td>\n",
       "      <td>0.255814</td>\n",
       "      <td>1.000000</td>\n",
       "      <td>-0.121827</td>\n",
       "      <td>0.018545</td>\n",
       "      <td>0.245910</td>\n",
       "      <td>0.235320</td>\n",
       "      <td>0.246687</td>\n",
       "      <td>0.178964</td>\n",
       "      <td>0.004747</td>\n",
       "      <td>0.021215</td>\n",
       "      <td>0.015809</td>\n",
       "      <td>-0.011278</td>\n",
       "      <td>0.998933</td>\n",
       "      <td>0.257253</td>\n",
       "      <td>-0.121982</td>\n",
       "      <td>0.017727</td>\n",
       "    </tr>\n",
       "    <tr>\n",
       "      <th>dti</th>\n",
       "      <td>0.068464</td>\n",
       "      <td>0.068614</td>\n",
       "      <td>0.077538</td>\n",
       "      <td>0.057049</td>\n",
       "      <td>-0.121827</td>\n",
       "      <td>1.000000</td>\n",
       "      <td>0.278204</td>\n",
       "      <td>0.066603</td>\n",
       "      <td>0.074044</td>\n",
       "      <td>0.042813</td>\n",
       "      <td>0.108029</td>\n",
       "      <td>-0.009998</td>\n",
       "      <td>0.025602</td>\n",
       "      <td>0.011153</td>\n",
       "      <td>0.007441</td>\n",
       "      <td>-0.121634</td>\n",
       "      <td>0.068328</td>\n",
       "      <td>0.999058</td>\n",
       "      <td>0.276274</td>\n",
       "    </tr>\n",
       "    <tr>\n",
       "      <th>revol_util</th>\n",
       "      <td>0.070414</td>\n",
       "      <td>0.074327</td>\n",
       "      <td>0.079079</td>\n",
       "      <td>0.100673</td>\n",
       "      <td>0.018545</td>\n",
       "      <td>0.278204</td>\n",
       "      <td>1.000000</td>\n",
       "      <td>0.084030</td>\n",
       "      <td>0.087563</td>\n",
       "      <td>0.029835</td>\n",
       "      <td>0.196212</td>\n",
       "      <td>0.040906</td>\n",
       "      <td>0.051946</td>\n",
       "      <td>0.029651</td>\n",
       "      <td>0.058214</td>\n",
       "      <td>0.018418</td>\n",
       "      <td>0.070532</td>\n",
       "      <td>0.278344</td>\n",
       "      <td>0.994957</td>\n",
       "    </tr>\n",
       "    <tr>\n",
       "      <th>total_pymnt</th>\n",
       "      <td>0.887079</td>\n",
       "      <td>0.903695</td>\n",
       "      <td>0.881127</td>\n",
       "      <td>0.856765</td>\n",
       "      <td>0.245910</td>\n",
       "      <td>0.066603</td>\n",
       "      <td>0.084030</td>\n",
       "      <td>1.000000</td>\n",
       "      <td>0.969950</td>\n",
       "      <td>0.971387</td>\n",
       "      <td>0.829666</td>\n",
       "      <td>0.012260</td>\n",
       "      <td>0.024415</td>\n",
       "      <td>0.024499</td>\n",
       "      <td>-0.037982</td>\n",
       "      <td>0.245447</td>\n",
       "      <td>0.883816</td>\n",
       "      <td>0.066482</td>\n",
       "      <td>0.082841</td>\n",
       "    </tr>\n",
       "    <tr>\n",
       "      <th>total_pymnt_inv</th>\n",
       "      <td>0.853589</td>\n",
       "      <td>0.870213</td>\n",
       "      <td>0.914087</td>\n",
       "      <td>0.815761</td>\n",
       "      <td>0.235320</td>\n",
       "      <td>0.074044</td>\n",
       "      <td>0.087563</td>\n",
       "      <td>0.969950</td>\n",
       "      <td>1.000000</td>\n",
       "      <td>0.938431</td>\n",
       "      <td>0.816068</td>\n",
       "      <td>-0.001298</td>\n",
       "      <td>0.019326</td>\n",
       "      <td>0.016269</td>\n",
       "      <td>-0.038862</td>\n",
       "      <td>0.234878</td>\n",
       "      <td>0.850418</td>\n",
       "      <td>0.073972</td>\n",
       "      <td>0.086575</td>\n",
       "    </tr>\n",
       "    <tr>\n",
       "      <th>total_rec_prncp</th>\n",
       "      <td>0.852999</td>\n",
       "      <td>0.871261</td>\n",
       "      <td>0.845976</td>\n",
       "      <td>0.851279</td>\n",
       "      <td>0.246687</td>\n",
       "      <td>0.042813</td>\n",
       "      <td>0.029835</td>\n",
       "      <td>0.971387</td>\n",
       "      <td>0.938431</td>\n",
       "      <td>1.000000</td>\n",
       "      <td>0.684821</td>\n",
       "      <td>-0.020434</td>\n",
       "      <td>-0.094373</td>\n",
       "      <td>-0.058508</td>\n",
       "      <td>-0.048333</td>\n",
       "      <td>0.246293</td>\n",
       "      <td>0.850154</td>\n",
       "      <td>0.042732</td>\n",
       "      <td>0.029044</td>\n",
       "    </tr>\n",
       "    <tr>\n",
       "      <th>total_rec_int</th>\n",
       "      <td>0.729618</td>\n",
       "      <td>0.737640</td>\n",
       "      <td>0.730822</td>\n",
       "      <td>0.634213</td>\n",
       "      <td>0.178964</td>\n",
       "      <td>0.108029</td>\n",
       "      <td>0.196212</td>\n",
       "      <td>0.829666</td>\n",
       "      <td>0.816068</td>\n",
       "      <td>0.684821</td>\n",
       "      <td>1.000000</td>\n",
       "      <td>0.069615</td>\n",
       "      <td>0.076727</td>\n",
       "      <td>0.036231</td>\n",
       "      <td>0.000513</td>\n",
       "      <td>0.178372</td>\n",
       "      <td>0.726208</td>\n",
       "      <td>0.107791</td>\n",
       "      <td>0.194344</td>\n",
       "    </tr>\n",
       "    <tr>\n",
       "      <th>total_rec_late_fee</th>\n",
       "      <td>0.042857</td>\n",
       "      <td>0.044677</td>\n",
       "      <td>0.025146</td>\n",
       "      <td>0.053707</td>\n",
       "      <td>0.004747</td>\n",
       "      <td>-0.009998</td>\n",
       "      <td>0.040906</td>\n",
       "      <td>0.012260</td>\n",
       "      <td>-0.001298</td>\n",
       "      <td>-0.020434</td>\n",
       "      <td>0.069615</td>\n",
       "      <td>1.000000</td>\n",
       "      <td>0.095816</td>\n",
       "      <td>0.090488</td>\n",
       "      <td>-0.004914</td>\n",
       "      <td>0.004465</td>\n",
       "      <td>0.042668</td>\n",
       "      <td>-0.010056</td>\n",
       "      <td>0.040024</td>\n",
       "    </tr>\n",
       "    <tr>\n",
       "      <th>recoveries</th>\n",
       "      <td>0.135177</td>\n",
       "      <td>0.135740</td>\n",
       "      <td>0.124553</td>\n",
       "      <td>0.117058</td>\n",
       "      <td>0.021215</td>\n",
       "      <td>0.025602</td>\n",
       "      <td>0.051946</td>\n",
       "      <td>0.024415</td>\n",
       "      <td>0.019326</td>\n",
       "      <td>-0.094373</td>\n",
       "      <td>0.076727</td>\n",
       "      <td>0.095816</td>\n",
       "      <td>1.000000</td>\n",
       "      <td>0.786465</td>\n",
       "      <td>-0.005371</td>\n",
       "      <td>0.021427</td>\n",
       "      <td>0.134448</td>\n",
       "      <td>0.025742</td>\n",
       "      <td>0.051545</td>\n",
       "    </tr>\n",
       "    <tr>\n",
       "      <th>collection_recovery_fee</th>\n",
       "      <td>0.074146</td>\n",
       "      <td>0.075895</td>\n",
       "      <td>0.063334</td>\n",
       "      <td>0.076116</td>\n",
       "      <td>0.015809</td>\n",
       "      <td>0.011153</td>\n",
       "      <td>0.029651</td>\n",
       "      <td>0.024499</td>\n",
       "      <td>0.016269</td>\n",
       "      <td>-0.058508</td>\n",
       "      <td>0.036231</td>\n",
       "      <td>0.090488</td>\n",
       "      <td>0.786465</td>\n",
       "      <td>1.000000</td>\n",
       "      <td>-0.006728</td>\n",
       "      <td>0.015805</td>\n",
       "      <td>0.073523</td>\n",
       "      <td>0.011213</td>\n",
       "      <td>0.029906</td>\n",
       "    </tr>\n",
       "    <tr>\n",
       "      <th>pub_rec_bankruptcies</th>\n",
       "      <td>-0.031147</td>\n",
       "      <td>-0.032769</td>\n",
       "      <td>-0.034107</td>\n",
       "      <td>-0.029297</td>\n",
       "      <td>-0.011278</td>\n",
       "      <td>0.007441</td>\n",
       "      <td>0.058214</td>\n",
       "      <td>-0.037982</td>\n",
       "      <td>-0.038862</td>\n",
       "      <td>-0.048333</td>\n",
       "      <td>0.000513</td>\n",
       "      <td>-0.004914</td>\n",
       "      <td>-0.005371</td>\n",
       "      <td>-0.006728</td>\n",
       "      <td>1.000000</td>\n",
       "      <td>-0.011230</td>\n",
       "      <td>-0.031106</td>\n",
       "      <td>0.007446</td>\n",
       "      <td>0.058082</td>\n",
       "    </tr>\n",
       "    <tr>\n",
       "      <th>income_bin</th>\n",
       "      <td>0.257742</td>\n",
       "      <td>0.253373</td>\n",
       "      <td>0.241004</td>\n",
       "      <td>0.255551</td>\n",
       "      <td>0.998933</td>\n",
       "      <td>-0.121634</td>\n",
       "      <td>0.018418</td>\n",
       "      <td>0.245447</td>\n",
       "      <td>0.234878</td>\n",
       "      <td>0.246293</td>\n",
       "      <td>0.178372</td>\n",
       "      <td>0.004465</td>\n",
       "      <td>0.021427</td>\n",
       "      <td>0.015805</td>\n",
       "      <td>-0.011230</td>\n",
       "      <td>1.000000</td>\n",
       "      <td>0.256802</td>\n",
       "      <td>-0.121777</td>\n",
       "      <td>0.017567</td>\n",
       "    </tr>\n",
       "    <tr>\n",
       "      <th>loan_amnt_bin</th>\n",
       "      <td>0.996459</td>\n",
       "      <td>0.977944</td>\n",
       "      <td>0.935165</td>\n",
       "      <td>0.926390</td>\n",
       "      <td>0.257253</td>\n",
       "      <td>0.068328</td>\n",
       "      <td>0.070532</td>\n",
       "      <td>0.883816</td>\n",
       "      <td>0.850418</td>\n",
       "      <td>0.850154</td>\n",
       "      <td>0.726208</td>\n",
       "      <td>0.042668</td>\n",
       "      <td>0.134448</td>\n",
       "      <td>0.073523</td>\n",
       "      <td>-0.031106</td>\n",
       "      <td>0.256802</td>\n",
       "      <td>1.000000</td>\n",
       "      <td>0.068268</td>\n",
       "      <td>0.069462</td>\n",
       "    </tr>\n",
       "    <tr>\n",
       "      <th>dti_bin</th>\n",
       "      <td>0.068434</td>\n",
       "      <td>0.068532</td>\n",
       "      <td>0.077442</td>\n",
       "      <td>0.057110</td>\n",
       "      <td>-0.121982</td>\n",
       "      <td>0.999058</td>\n",
       "      <td>0.278344</td>\n",
       "      <td>0.066482</td>\n",
       "      <td>0.073972</td>\n",
       "      <td>0.042732</td>\n",
       "      <td>0.107791</td>\n",
       "      <td>-0.010056</td>\n",
       "      <td>0.025742</td>\n",
       "      <td>0.011213</td>\n",
       "      <td>0.007446</td>\n",
       "      <td>-0.121777</td>\n",
       "      <td>0.068268</td>\n",
       "      <td>1.000000</td>\n",
       "      <td>0.276433</td>\n",
       "    </tr>\n",
       "    <tr>\n",
       "      <th>revol_util_bin</th>\n",
       "      <td>0.069355</td>\n",
       "      <td>0.073227</td>\n",
       "      <td>0.078186</td>\n",
       "      <td>0.099530</td>\n",
       "      <td>0.017727</td>\n",
       "      <td>0.276274</td>\n",
       "      <td>0.994957</td>\n",
       "      <td>0.082841</td>\n",
       "      <td>0.086575</td>\n",
       "      <td>0.029044</td>\n",
       "      <td>0.194344</td>\n",
       "      <td>0.040024</td>\n",
       "      <td>0.051545</td>\n",
       "      <td>0.029906</td>\n",
       "      <td>0.058082</td>\n",
       "      <td>0.017567</td>\n",
       "      <td>0.069462</td>\n",
       "      <td>0.276433</td>\n",
       "      <td>1.000000</td>\n",
       "    </tr>\n",
       "  </tbody>\n",
       "</table>\n",
       "</div>"
      ],
      "text/plain": [
       "                         loan_amnt  funded_amnt  funded_amnt_inv  installment  \\\n",
       "loan_amnt                 1.000000     0.981458         0.938536     0.929498   \n",
       "funded_amnt               0.981458     1.000000         0.957027     0.955426   \n",
       "funded_amnt_inv           0.938536     0.957027         1.000000     0.902334   \n",
       "installment               0.929498     0.955426         0.902334     1.000000   \n",
       "annual_inc                0.258181     0.253713         0.241358     0.255814   \n",
       "dti                       0.068464     0.068614         0.077538     0.057049   \n",
       "revol_util                0.070414     0.074327         0.079079     0.100673   \n",
       "total_pymnt               0.887079     0.903695         0.881127     0.856765   \n",
       "total_pymnt_inv           0.853589     0.870213         0.914087     0.815761   \n",
       "total_rec_prncp           0.852999     0.871261         0.845976     0.851279   \n",
       "total_rec_int             0.729618     0.737640         0.730822     0.634213   \n",
       "total_rec_late_fee        0.042857     0.044677         0.025146     0.053707   \n",
       "recoveries                0.135177     0.135740         0.124553     0.117058   \n",
       "collection_recovery_fee   0.074146     0.075895         0.063334     0.076116   \n",
       "pub_rec_bankruptcies     -0.031147    -0.032769        -0.034107    -0.029297   \n",
       "income_bin                0.257742     0.253373         0.241004     0.255551   \n",
       "loan_amnt_bin             0.996459     0.977944         0.935165     0.926390   \n",
       "dti_bin                   0.068434     0.068532         0.077442     0.057110   \n",
       "revol_util_bin            0.069355     0.073227         0.078186     0.099530   \n",
       "\n",
       "                         annual_inc       dti  revol_util  total_pymnt  \\\n",
       "loan_amnt                  0.258181  0.068464    0.070414     0.887079   \n",
       "funded_amnt                0.253713  0.068614    0.074327     0.903695   \n",
       "funded_amnt_inv            0.241358  0.077538    0.079079     0.881127   \n",
       "installment                0.255814  0.057049    0.100673     0.856765   \n",
       "annual_inc                 1.000000 -0.121827    0.018545     0.245910   \n",
       "dti                       -0.121827  1.000000    0.278204     0.066603   \n",
       "revol_util                 0.018545  0.278204    1.000000     0.084030   \n",
       "total_pymnt                0.245910  0.066603    0.084030     1.000000   \n",
       "total_pymnt_inv            0.235320  0.074044    0.087563     0.969950   \n",
       "total_rec_prncp            0.246687  0.042813    0.029835     0.971387   \n",
       "total_rec_int              0.178964  0.108029    0.196212     0.829666   \n",
       "total_rec_late_fee         0.004747 -0.009998    0.040906     0.012260   \n",
       "recoveries                 0.021215  0.025602    0.051946     0.024415   \n",
       "collection_recovery_fee    0.015809  0.011153    0.029651     0.024499   \n",
       "pub_rec_bankruptcies      -0.011278  0.007441    0.058214    -0.037982   \n",
       "income_bin                 0.998933 -0.121634    0.018418     0.245447   \n",
       "loan_amnt_bin              0.257253  0.068328    0.070532     0.883816   \n",
       "dti_bin                   -0.121982  0.999058    0.278344     0.066482   \n",
       "revol_util_bin             0.017727  0.276274    0.994957     0.082841   \n",
       "\n",
       "                         total_pymnt_inv  total_rec_prncp  total_rec_int  \\\n",
       "loan_amnt                       0.853589         0.852999       0.729618   \n",
       "funded_amnt                     0.870213         0.871261       0.737640   \n",
       "funded_amnt_inv                 0.914087         0.845976       0.730822   \n",
       "installment                     0.815761         0.851279       0.634213   \n",
       "annual_inc                      0.235320         0.246687       0.178964   \n",
       "dti                             0.074044         0.042813       0.108029   \n",
       "revol_util                      0.087563         0.029835       0.196212   \n",
       "total_pymnt                     0.969950         0.971387       0.829666   \n",
       "total_pymnt_inv                 1.000000         0.938431       0.816068   \n",
       "total_rec_prncp                 0.938431         1.000000       0.684821   \n",
       "total_rec_int                   0.816068         0.684821       1.000000   \n",
       "total_rec_late_fee             -0.001298        -0.020434       0.069615   \n",
       "recoveries                      0.019326        -0.094373       0.076727   \n",
       "collection_recovery_fee         0.016269        -0.058508       0.036231   \n",
       "pub_rec_bankruptcies           -0.038862        -0.048333       0.000513   \n",
       "income_bin                      0.234878         0.246293       0.178372   \n",
       "loan_amnt_bin                   0.850418         0.850154       0.726208   \n",
       "dti_bin                         0.073972         0.042732       0.107791   \n",
       "revol_util_bin                  0.086575         0.029044       0.194344   \n",
       "\n",
       "                         total_rec_late_fee  recoveries  \\\n",
       "loan_amnt                          0.042857    0.135177   \n",
       "funded_amnt                        0.044677    0.135740   \n",
       "funded_amnt_inv                    0.025146    0.124553   \n",
       "installment                        0.053707    0.117058   \n",
       "annual_inc                         0.004747    0.021215   \n",
       "dti                               -0.009998    0.025602   \n",
       "revol_util                         0.040906    0.051946   \n",
       "total_pymnt                        0.012260    0.024415   \n",
       "total_pymnt_inv                   -0.001298    0.019326   \n",
       "total_rec_prncp                   -0.020434   -0.094373   \n",
       "total_rec_int                      0.069615    0.076727   \n",
       "total_rec_late_fee                 1.000000    0.095816   \n",
       "recoveries                         0.095816    1.000000   \n",
       "collection_recovery_fee            0.090488    0.786465   \n",
       "pub_rec_bankruptcies              -0.004914   -0.005371   \n",
       "income_bin                         0.004465    0.021427   \n",
       "loan_amnt_bin                      0.042668    0.134448   \n",
       "dti_bin                           -0.010056    0.025742   \n",
       "revol_util_bin                     0.040024    0.051545   \n",
       "\n",
       "                         collection_recovery_fee  pub_rec_bankruptcies  \\\n",
       "loan_amnt                               0.074146             -0.031147   \n",
       "funded_amnt                             0.075895             -0.032769   \n",
       "funded_amnt_inv                         0.063334             -0.034107   \n",
       "installment                             0.076116             -0.029297   \n",
       "annual_inc                              0.015809             -0.011278   \n",
       "dti                                     0.011153              0.007441   \n",
       "revol_util                              0.029651              0.058214   \n",
       "total_pymnt                             0.024499             -0.037982   \n",
       "total_pymnt_inv                         0.016269             -0.038862   \n",
       "total_rec_prncp                        -0.058508             -0.048333   \n",
       "total_rec_int                           0.036231              0.000513   \n",
       "total_rec_late_fee                      0.090488             -0.004914   \n",
       "recoveries                              0.786465             -0.005371   \n",
       "collection_recovery_fee                 1.000000             -0.006728   \n",
       "pub_rec_bankruptcies                   -0.006728              1.000000   \n",
       "income_bin                              0.015805             -0.011230   \n",
       "loan_amnt_bin                           0.073523             -0.031106   \n",
       "dti_bin                                 0.011213              0.007446   \n",
       "revol_util_bin                          0.029906              0.058082   \n",
       "\n",
       "                         income_bin  loan_amnt_bin   dti_bin  revol_util_bin  \n",
       "loan_amnt                  0.257742       0.996459  0.068434        0.069355  \n",
       "funded_amnt                0.253373       0.977944  0.068532        0.073227  \n",
       "funded_amnt_inv            0.241004       0.935165  0.077442        0.078186  \n",
       "installment                0.255551       0.926390  0.057110        0.099530  \n",
       "annual_inc                 0.998933       0.257253 -0.121982        0.017727  \n",
       "dti                       -0.121634       0.068328  0.999058        0.276274  \n",
       "revol_util                 0.018418       0.070532  0.278344        0.994957  \n",
       "total_pymnt                0.245447       0.883816  0.066482        0.082841  \n",
       "total_pymnt_inv            0.234878       0.850418  0.073972        0.086575  \n",
       "total_rec_prncp            0.246293       0.850154  0.042732        0.029044  \n",
       "total_rec_int              0.178372       0.726208  0.107791        0.194344  \n",
       "total_rec_late_fee         0.004465       0.042668 -0.010056        0.040024  \n",
       "recoveries                 0.021427       0.134448  0.025742        0.051545  \n",
       "collection_recovery_fee    0.015805       0.073523  0.011213        0.029906  \n",
       "pub_rec_bankruptcies      -0.011230      -0.031106  0.007446        0.058082  \n",
       "income_bin                 1.000000       0.256802 -0.121777        0.017567  \n",
       "loan_amnt_bin              0.256802       1.000000  0.068268        0.069462  \n",
       "dti_bin                   -0.121777       0.068268  1.000000        0.276433  \n",
       "revol_util_bin             0.017567       0.069462  0.276433        1.000000  "
      ]
     },
     "execution_count": 385,
     "metadata": {},
     "output_type": "execute_result"
    }
   ],
   "source": [
    "loan_correlation = loan.corr()\n",
    "loan_correlation"
   ]
  },
  {
   "cell_type": "code",
   "execution_count": 400,
   "metadata": {},
   "outputs": [
    {
     "data": {
      "image/png": "[encoded data removed]",
      "text/plain": [
       "<matplotlib.figure.Figure at 0x2755b5d7ba8>"
      ]
     },
     "metadata": {},
     "output_type": "display_data"
    }
   ],
   "source": [
    "f, ax = plt.subplots(figsize=(14, 9))\n",
    "sns.heatmap(loan_correlation, \n",
    "            xticklabels=loan_correlation.columns.values,\n",
    "            yticklabels=loan_correlation.columns.values,cmap=\"YlGnBu\",annot= True)\n",
    "plt.show()"
   ]
  },
  {
   "cell_type": "code",
   "execution_count": 404,
   "metadata": {},
   "outputs": [
    {
     "data": {
      "text/plain": [
       "Text(0,0.5,'Average loan amount issued')"
      ]
     },
     "execution_count": 404,
     "metadata": {},
     "output_type": "execute_result"
    },
    {
     "data": {
      "image/png": "[encoded data removed]",
      "text/plain": [
       "<matplotlib.figure.Figure at 0x2755bfeabe0>"
      ]
     },
     "metadata": {},
     "output_type": "display_data"
    }
   ],
   "source": [
    "plt.figure(figsize=(12,8))\n",
    "sns.barplot('issue_year', 'loan_amnt', data=loan, palette='tab10')\n",
    "plt.title('Issuance of Loans', fontsize=16)\n",
    "plt.xlabel('Year', fontsize=14)\n",
    "plt.ylabel('Average loan amount issued', fontsize=14)"
   ]
  },
  {
   "cell_type": "code",
   "execution_count": 412,
   "metadata": {},
   "outputs": [
    {
     "data": {
      "text/plain": [
       "[Text(318.306,0.5,'(%)')]"
      ]
     },
     "execution_count": 412,
     "metadata": {},
     "output_type": "execute_result"
    },
    {
     "data": {
      "image/png": "[encoded data removed]",
      "text/plain": [
       "<matplotlib.figure.Figure at 0x2755c9326d8>"
      ]
     },
     "metadata": {},
     "output_type": "display_data"
    }
   ],
   "source": [
    "palette = [\"#3791D7\", \"#E01E1B\"]\n",
    "sns.barplot(x=\"issue_year\", y=\"loan_amnt\", hue=\"loan_status\", data=loan, palette=palette, estimator=lambda x: len(x) / len(loan) * 100)\n",
    "ax[1].set(ylabel=\"(%)\")"
   ]
  },
  {
   "cell_type": "code",
   "execution_count": 414,
   "metadata": {},
   "outputs": [
    {
     "data": {
      "text/plain": [
       "<matplotlib.axes._subplots.AxesSubplot at 0x2755cee3278>"
      ]
     },
     "execution_count": 414,
     "metadata": {},
     "output_type": "execute_result"
    },
    {
     "data": {
      "image/png": "[encoded data removed]",
      "text/plain": [
       "<matplotlib.figure.Figure at 0x2755ccf3898>"
      ]
     },
     "metadata": {},
     "output_type": "display_data"
    }
   ],
   "source": [
    "fig, ((ax1, ax2), (ax3, ax4))= plt.subplots(nrows=2, ncols=2, figsize=(14,6))\n",
    "\n",
    "# Change the Palette types tomorrow!\n",
    "\n",
    "sns.violinplot(x=\"grade\", y=\"loan_amnt\", data=loan, palette=\"Set2\", ax=ax1 )\n",
    "sns.violinplot(x=\"sub_grade\", y=\"loan_amnt\", data=loan, palette=\"Set2\", ax=ax2)\n",
    "sns.boxplot(x=\"grade\", y=\"funded_amnt\", data=loan, palette=\"Set2\", ax=ax3)\n",
    "sns.boxplot(x=\"sub_grade\", y=\"funded_amnt_inv\", data=loan, palette=\"Set2\", ax=ax4)"
   ]
  },
  {
   "cell_type": "code",
   "execution_count": 415,
   "metadata": {},
   "outputs": [
    {
     "data": {
      "text/html": [
       "<div>\n",
       "<style scoped>\n",
       "    .dataframe tbody tr th:only-of-type {\n",
       "        vertical-align: middle;\n",
       "    }\n",
       "\n",
       "    .dataframe tbody tr th {\n",
       "        vertical-align: top;\n",
       "    }\n",
       "\n",
       "    .dataframe thead th {\n",
       "        text-align: right;\n",
       "    }\n",
       "</style>\n",
       "<table border=\"1\" class=\"dataframe\">\n",
       "  <thead>\n",
       "    <tr style=\"text-align: right;\">\n",
       "      <th></th>\n",
       "      <th>id</th>\n",
       "      <th>member_id</th>\n",
       "      <th>loan_amnt</th>\n",
       "      <th>funded_amnt</th>\n",
       "      <th>funded_amnt_inv</th>\n",
       "      <th>term</th>\n",
       "      <th>int_rate</th>\n",
       "      <th>installment</th>\n",
       "      <th>grade</th>\n",
       "      <th>sub_grade</th>\n",
       "      <th>...</th>\n",
       "      <th>next_pymnt_d</th>\n",
       "      <th>last_credit_pull_d</th>\n",
       "      <th>pub_rec_bankruptcies</th>\n",
       "      <th>issue_month</th>\n",
       "      <th>issue_year</th>\n",
       "      <th>defaulted</th>\n",
       "      <th>income_bin</th>\n",
       "      <th>loan_amnt_bin</th>\n",
       "      <th>dti_bin</th>\n",
       "      <th>revol_util_bin</th>\n",
       "    </tr>\n",
       "  </thead>\n",
       "  <tbody>\n",
       "    <tr>\n",
       "      <th>0</th>\n",
       "      <td></td>\n",
       "      <td></td>\n",
       "      <td>NaN</td>\n",
       "      <td>NaN</td>\n",
       "      <td>NaN</td>\n",
       "      <td></td>\n",
       "      <td></td>\n",
       "      <td>NaN</td>\n",
       "      <td></td>\n",
       "      <td></td>\n",
       "      <td>...</td>\n",
       "      <td></td>\n",
       "      <td></td>\n",
       "      <td>0.0</td>\n",
       "      <td></td>\n",
       "      <td></td>\n",
       "      <td>False</td>\n",
       "      <td>NaN</td>\n",
       "      <td>NaN</td>\n",
       "      <td>NaN</td>\n",
       "      <td>50.0</td>\n",
       "    </tr>\n",
       "    <tr>\n",
       "      <th>1</th>\n",
       "      <td>1077430</td>\n",
       "      <td>1314167</td>\n",
       "      <td>2500.0</td>\n",
       "      <td>2500.0</td>\n",
       "      <td>2500.0</td>\n",
       "      <td>60</td>\n",
       "      <td>15.27</td>\n",
       "      <td>59.83</td>\n",
       "      <td>C</td>\n",
       "      <td>C4</td>\n",
       "      <td>...</td>\n",
       "      <td>NaN</td>\n",
       "      <td>Sep-13</td>\n",
       "      <td>0.0</td>\n",
       "      <td>Dec</td>\n",
       "      <td>11</td>\n",
       "      <td>True</td>\n",
       "      <td>30000.0</td>\n",
       "      <td>2500.0</td>\n",
       "      <td>1.0</td>\n",
       "      <td>10.0</td>\n",
       "    </tr>\n",
       "    <tr>\n",
       "      <th>2</th>\n",
       "      <td></td>\n",
       "      <td></td>\n",
       "      <td>NaN</td>\n",
       "      <td>NaN</td>\n",
       "      <td>NaN</td>\n",
       "      <td></td>\n",
       "      <td></td>\n",
       "      <td>NaN</td>\n",
       "      <td></td>\n",
       "      <td></td>\n",
       "      <td>...</td>\n",
       "      <td></td>\n",
       "      <td></td>\n",
       "      <td>0.0</td>\n",
       "      <td></td>\n",
       "      <td></td>\n",
       "      <td>False</td>\n",
       "      <td>NaN</td>\n",
       "      <td>NaN</td>\n",
       "      <td>NaN</td>\n",
       "      <td>50.0</td>\n",
       "    </tr>\n",
       "    <tr>\n",
       "      <th>3</th>\n",
       "      <td>1076863</td>\n",
       "      <td>1277178</td>\n",
       "      <td>10000.0</td>\n",
       "      <td>10000.0</td>\n",
       "      <td>10000.0</td>\n",
       "      <td>36</td>\n",
       "      <td>13.49</td>\n",
       "      <td>339.31</td>\n",
       "      <td>C</td>\n",
       "      <td>C1</td>\n",
       "      <td>...</td>\n",
       "      <td>NaN</td>\n",
       "      <td>Apr-16</td>\n",
       "      <td>0.0</td>\n",
       "      <td>Dec</td>\n",
       "      <td>11</td>\n",
       "      <td>False</td>\n",
       "      <td>50000.0</td>\n",
       "      <td>10000.0</td>\n",
       "      <td>20.0</td>\n",
       "      <td>20.0</td>\n",
       "    </tr>\n",
       "    <tr>\n",
       "      <th>4</th>\n",
       "      <td>1075358</td>\n",
       "      <td>1311748</td>\n",
       "      <td>3000.0</td>\n",
       "      <td>3000.0</td>\n",
       "      <td>3000.0</td>\n",
       "      <td>60</td>\n",
       "      <td>12.69</td>\n",
       "      <td>67.79</td>\n",
       "      <td>B</td>\n",
       "      <td>B5</td>\n",
       "      <td>...</td>\n",
       "      <td>Jun-16</td>\n",
       "      <td>May-16</td>\n",
       "      <td>0.0</td>\n",
       "      <td>Dec</td>\n",
       "      <td>11</td>\n",
       "      <td>False</td>\n",
       "      <td>80000.0</td>\n",
       "      <td>2500.0</td>\n",
       "      <td>18.0</td>\n",
       "      <td>50.0</td>\n",
       "    </tr>\n",
       "  </tbody>\n",
       "</table>\n",
       "<p>5 rows × 53 columns</p>\n",
       "</div>"
      ],
      "text/plain": [
       "        id member_id  loan_amnt  funded_amnt  funded_amnt_inv term int_rate  \\\n",
       "0                           NaN          NaN              NaN                 \n",
       "1  1077430   1314167     2500.0       2500.0           2500.0   60    15.27   \n",
       "2                           NaN          NaN              NaN                 \n",
       "3  1076863   1277178    10000.0      10000.0          10000.0   36    13.49   \n",
       "4  1075358   1311748     3000.0       3000.0           3000.0   60    12.69   \n",
       "\n",
       "   installment grade sub_grade      ...       next_pymnt_d last_credit_pull_d  \\\n",
       "0          NaN                      ...                                         \n",
       "1        59.83     C        C4      ...                NaN             Sep-13   \n",
       "2          NaN                      ...                                         \n",
       "3       339.31     C        C1      ...                NaN             Apr-16   \n",
       "4        67.79     B        B5      ...             Jun-16             May-16   \n",
       "\n",
       "  pub_rec_bankruptcies  issue_month issue_year defaulted income_bin  \\\n",
       "0                  0.0                             False        NaN   \n",
       "1                  0.0          Dec         11      True    30000.0   \n",
       "2                  0.0                             False        NaN   \n",
       "3                  0.0          Dec         11     False    50000.0   \n",
       "4                  0.0          Dec         11     False    80000.0   \n",
       "\n",
       "  loan_amnt_bin dti_bin revol_util_bin  \n",
       "0           NaN     NaN           50.0  \n",
       "1        2500.0     1.0           10.0  \n",
       "2           NaN     NaN           50.0  \n",
       "3       10000.0    20.0           20.0  \n",
       "4        2500.0    18.0           50.0  \n",
       "\n",
       "[5 rows x 53 columns]"
      ]
     },
     "execution_count": 415,
     "metadata": {},
     "output_type": "execute_result"
    }
   ],
   "source": [
    "loan.head()"
   ]
  },
  {
   "cell_type": "code",
   "execution_count": 416,
   "metadata": {},
   "outputs": [
    {
     "name": "stdout",
     "output_type": "stream",
     "text": [
      "<class 'pandas.core.frame.DataFrame'>\n",
      "RangeIndex: 39717 entries, 0 to 39716\n",
      "Data columns (total 53 columns):\n",
      "id                         39717 non-null object\n",
      "member_id                  39717 non-null object\n",
      "loan_amnt                  37249 non-null float64\n",
      "funded_amnt                37249 non-null float64\n",
      "funded_amnt_inv            37249 non-null float64\n",
      "term                       39717 non-null object\n",
      "int_rate                   39717 non-null object\n",
      "installment                37249 non-null float64\n",
      "grade                      39717 non-null object\n",
      "sub_grade                  39717 non-null object\n",
      "emp_title                  39717 non-null object\n",
      "emp_length                 39717 non-null object\n",
      "home_ownership             39717 non-null object\n",
      "annual_inc                 37249 non-null float64\n",
      "verification_status        39717 non-null object\n",
      "issue_d                    39717 non-null object\n",
      "loan_status                39717 non-null object\n",
      "purpose                    39717 non-null object\n",
      "title                      39717 non-null object\n",
      "zip_code                   39717 non-null object\n",
      "addr_state                 39717 non-null object\n",
      "dti                        37249 non-null float64\n",
      "delinq_2yrs                39717 non-null object\n",
      "earliest_cr_line           39717 non-null object\n",
      "inq_last_6mths             39717 non-null object\n",
      "mths_since_last_delinq     15663 non-null object\n",
      "mths_since_last_record     5023 non-null object\n",
      "open_acc                   39717 non-null object\n",
      "pub_rec                    39717 non-null object\n",
      "revol_bal                  39717 non-null object\n",
      "revol_util                 39717 non-null float64\n",
      "total_acc                  39717 non-null object\n",
      "out_prncp                  39717 non-null object\n",
      "out_prncp_inv              39717 non-null object\n",
      "total_pymnt                37249 non-null float64\n",
      "total_pymnt_inv            37249 non-null float64\n",
      "total_rec_prncp            37249 non-null float64\n",
      "total_rec_int              37249 non-null float64\n",
      "total_rec_late_fee         37249 non-null float64\n",
      "recoveries                 37249 non-null float64\n",
      "collection_recovery_fee    37249 non-null float64\n",
      "last_pymnt_d               39653 non-null object\n",
      "last_pymnt_amnt            39717 non-null object\n",
      "next_pymnt_d               3535 non-null object\n",
      "last_credit_pull_d         39717 non-null object\n",
      "pub_rec_bankruptcies       39717 non-null float64\n",
      "issue_month                39717 non-null object\n",
      "issue_year                 39717 non-null object\n",
      "defaulted                  39717 non-null object\n",
      "income_bin                 37249 non-null float64\n",
      "loan_amnt_bin              37249 non-null float64\n",
      "dti_bin                    37249 non-null float64\n",
      "revol_util_bin             39717 non-null float64\n",
      "dtypes: float64(19), object(34)\n",
      "memory usage: 16.1+ MB\n"
     ]
    }
   ],
   "source": [
    "loan.info()"
   ]
  },
  {
   "cell_type": "code",
   "execution_count": 420,
   "metadata": {},
   "outputs": [
    {
     "data": {
      "text/plain": [
       "<matplotlib.axes._subplots.AxesSubplot at 0x2755af52470>"
      ]
     },
     "execution_count": 420,
     "metadata": {},
     "output_type": "execute_result"
    },
    {
     "data": {
      "image/png": "[encoded data removed]",
      "text/plain": [
       "<matplotlib.figure.Figure at 0x2755e80c0b8>"
      ]
     },
     "metadata": {},
     "output_type": "display_data"
    }
   ],
   "source": [
    "fig, ((ax1, ax2), (ax3, ax4))= plt.subplots(nrows=2, ncols=2, figsize=(14,6))\n",
    "sns.boxplot(x=\"purpose\", y=\"loan_amnt\", data=loan, palette=\"Set2\", ax=ax1)\n",
    "sns.boxplot(x=\"home_ownership\", y=\"loan_amnt\", data=loan, palette=\"Set2\", ax=ax2)\n",
    "sns.boxplot(x=\"term\", y=\"loan_amnt\", data=loan, palette=\"Set2\", ax=ax3)\n",
    "sns.boxplot(x=\"verification_status\", y=\"loan_amnt\", data=loan, palette=\"Set2\", ax=ax4)"
   ]
  },
  {
   "cell_type": "code",
   "execution_count": 421,
   "metadata": {},
   "outputs": [
    {
     "data": {
      "image/png": "[encoded data removed]",
      "text/plain": [
       "<matplotlib.figure.Figure at 0x2755b8ae0b8>"
      ]
     },
     "metadata": {},
     "output_type": "display_data"
    }
   ],
   "source": [
    "#sns.boxplot(x=\"emp_length\", y=\"loan_amnt\", data=loan, palette=\"Set2\", ax=ax4)\n",
    "\n",
    "plt.figure(figsize=(15,9))\n",
    "ax = sns.boxplot(y=\"emp_length\", x=\"loan_amnt\", data=loan)\n",
    "ax = plt.xlabel('Loan Amount')\n",
    "ax = plt.ylabel('Employee Length')\n",
    "ax = plt.title('Loan Amount Vs Employee Length')"
   ]
  },
  {
   "cell_type": "code",
   "execution_count": 422,
   "metadata": {},
   "outputs": [
    {
     "data": {
      "image/png": "[encoded data removed]",
      "text/plain": [
       "<matplotlib.figure.Figure at 0x275458e4a58>"
      ]
     },
     "metadata": {},
     "output_type": "display_data"
    }
   ],
   "source": [
    "plt.figure(figsize=(10,6))\n",
    "\n",
    "#pal = {\"Good\": \"#6bad97\", \"Bad\": \"#d8617f\"}\n",
    "\n",
    "ax = sns.violinplot(x=\"loan_status\", y=\"loan_amnt\", data=loan)\n",
    "ax = plt.xlabel('Loan status')\n",
    "ax = plt.ylabel('Loan Amount')\n",
    "ax = plt.title('Loan Amount Distribution')"
   ]
  },
  {
   "cell_type": "code",
   "execution_count": null,
   "metadata": {},
   "outputs": [],
   "source": []
  }
 ],
 "metadata": {
  "kernelspec": {
   "display_name": "Python 3",
   "language": "python",
   "name": "python3"
  },
  "language_info": {
   "codemirror_mode": {
    "name": "ipython",
    "version": 3
   },
   "file_extension": ".py",
   "mimetype": "text/x-python",
   "name": "python",
   "nbconvert_exporter": "python",
   "pygments_lexer": "ipython3",
   "version": "3.6.4"
  }
 },
 "nbformat": 4,
 "nbformat_minor": 2
}
